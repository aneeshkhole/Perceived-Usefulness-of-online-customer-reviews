{
 "cells": [
  {
   "cell_type": "code",
   "execution_count": 149,
   "metadata": {},
   "outputs": [],
   "source": [
    "import pandas as pd, numpy as np, matplotlib.pyplot as plt\n",
    "import seaborn as sns\n",
    "\n",
    "from sklearn.metrics import (\n",
    "    accuracy_score,f1_score,\n",
    "    precision_score,recall_score, \n",
    "    confusion_matrix, ConfusionMatrixDisplay,\n",
    ")\n",
    "from sklearn.model_selection import train_test_split\n",
    "from sklearn.linear_model import LogisticRegression\n",
    "from imblearn.over_sampling import RandomOverSampler\n",
    "from sklearn.preprocessing import StandardScaler"
   ]
  },
  {
   "cell_type": "code",
   "execution_count": 150,
   "metadata": {},
   "outputs": [
    {
     "name": "stderr",
     "output_type": "stream",
     "text": [
      "C:\\Users\\khole\\AppData\\Local\\Temp\\ipykernel_7292\\1897764794.py:6: DtypeWarning: Columns (11) have mixed types. Specify dtype option on import or set low_memory=False.\n",
      "  review_data = pd.read_csv('../data/all_reviews_without_unicode.csv')\n"
     ]
    }
   ],
   "source": [
    "product_data = pd.read_csv('../data/master_product_list.csv')\n",
    "#make it so that the IDs match up for joins\n",
    "product_data['prodSiteID'] = product_data['prodSiteID'].str.upper()\n",
    "\n",
    "#read in all of our review data\n",
    "review_data = pd.read_csv('../data/all_reviews_without_unicode.csv')\n",
    "#make it so that the IDs match up for joins\n",
    "review_data['prodSiteID'] = review_data['prodSiteID'].str.upper()\n",
    "\n",
    "#merge some key variables from the products dataframe\n",
    "#into the review dataframe for supporting model building and \n",
    "#analysis\n",
    "review_data = review_data.merge(\n",
    "    right=pd.DataFrame(\n",
    "      product_data[\n",
    "        [\n",
    "            'product_price','prodSiteID',\n",
    "            'prod_subjectivity','total_star_rating','site'\n",
    "        ]\n",
    "      ]\n",
    "    ),\n",
    "    on='prodSiteID',\n",
    "    how='left'\n",
    ")\n",
    "\n",
    "#add a boolean/binary value for whether or not the review\n",
    "#is \"helpful\" to other customers.\n",
    "#we can also explore adjusting the setting for \"helpful\"\n",
    "#in this binary based off of the distribution of the helpful votes\n",
    "#e.g. if it has more than the median number of votes, it's helpful.\n",
    "\n",
    "review_data['is_helpful'] = np.select(\n",
    "    [\n",
    "        review_data['review_helpful_votes'] > 0,\n",
    "        review_data['review_helpful_votes'] == 0 | review_data['review_helpful_votes'].isna(),\n",
    "    ],\n",
    "    [\n",
    "        1,\n",
    "        0\n",
    "    ]\n",
    ")"
   ]
  },
  {
   "cell_type": "code",
   "execution_count": 151,
   "metadata": {},
   "outputs": [],
   "source": [
    "test_metrics = pd.DataFrame(\n",
    "    {\n",
    "        'Model':[],\n",
    "        'Accuracy':[],\n",
    "        'F1':[],\n",
    "        'Precision':[],\n",
    "        'Recall':[]\n",
    "    }\n",
    ")"
   ]
  },
  {
   "cell_type": "code",
   "execution_count": 152,
   "metadata": {},
   "outputs": [],
   "source": [
    "review_data = pd.DataFrame(\n",
    "    review_data[\n",
    "        (review_data['productID'].isin([1,2,3,5,6,8,9,11,12,13,14,15])) &\n",
    "        (review_data['review_lang']=='en')\n",
    "    ]\n",
    ")"
   ]
  },
  {
   "cell_type": "code",
   "execution_count": 156,
   "metadata": {},
   "outputs": [],
   "source": [
    "oversample = RandomOverSampler(sampling_strategy='minority')\n",
    "\n",
    "X,y = [review_data[\n",
    "    ['review_star_rating','verified_purchase','review_subjectivity',\n",
    "    'review_polarity', 'review_length','product_price', 'prod_subjectivity', 'total_star_rating']\n",
    "],review_data['is_helpful']]\n",
    "\n",
    "\n",
    "# Oversample the minority class\n",
    "\n",
    "X_resampled, y_resampled = oversample.fit_resample(X, y)\n",
    "\n",
    "scaler = StandardScaler()\n",
    "X = scaler.fit_transform(X_resampled)"
   ]
  },
  {
   "cell_type": "code",
   "execution_count": 157,
   "metadata": {},
   "outputs": [],
   "source": [
    "X_train, X_test, y_train, y_test = train_test_split(X, y_resampled, test_size=0.2, random_state=42)"
   ]
  },
  {
   "cell_type": "code",
   "execution_count": 158,
   "metadata": {},
   "outputs": [
    {
     "data": {
      "text/html": [
       "<div>\n",
       "<style scoped>\n",
       "    .dataframe tbody tr th:only-of-type {\n",
       "        vertical-align: middle;\n",
       "    }\n",
       "\n",
       "    .dataframe tbody tr th {\n",
       "        vertical-align: top;\n",
       "    }\n",
       "\n",
       "    .dataframe thead th {\n",
       "        text-align: right;\n",
       "    }\n",
       "</style>\n",
       "<table border=\"1\" class=\"dataframe\">\n",
       "  <thead>\n",
       "    <tr style=\"text-align: right;\">\n",
       "      <th></th>\n",
       "      <th>Model</th>\n",
       "      <th>Accuracy</th>\n",
       "      <th>F1</th>\n",
       "      <th>Precision</th>\n",
       "      <th>Recall</th>\n",
       "    </tr>\n",
       "  </thead>\n",
       "  <tbody>\n",
       "    <tr>\n",
       "      <th>0</th>\n",
       "      <td>Logistic Regression</td>\n",
       "      <td>0.683461</td>\n",
       "      <td>0.645133</td>\n",
       "      <td>0.738557</td>\n",
       "      <td>0.572691</td>\n",
       "    </tr>\n",
       "    <tr>\n",
       "      <th>1</th>\n",
       "      <td>Logistic Regression</td>\n",
       "      <td>0.745912</td>\n",
       "      <td>0.722982</td>\n",
       "      <td>0.799324</td>\n",
       "      <td>0.659950</td>\n",
       "    </tr>\n",
       "  </tbody>\n",
       "</table>\n",
       "</div>"
      ],
      "text/plain": [
       "                 Model  Accuracy        F1  Precision    Recall\n",
       "0  Logistic Regression  0.683461  0.645133   0.738557  0.572691\n",
       "1  Logistic Regression  0.745912  0.722982   0.799324  0.659950"
      ]
     },
     "metadata": {},
     "output_type": "display_data"
    },
    {
     "data": {
      "image/png": "[encoded data removed]",
      "text/plain": [
       "<Figure size 640x480 with 2 Axes>"
      ]
     },
     "metadata": {},
     "output_type": "display_data"
    }
   ],
   "source": [
    "mod = LogisticRegression(penalty='l2')\n",
    "\n",
    "log_reg = mod.fit(X_train,y_train)\n",
    "#y_pred = (mod.predict_proba(X_test)[:,1] > .11)\n",
    "mod.predict(X_test)\n",
    "#y_pred = (mod.predict_proba(X_test)[:,1] > 0.5)\n",
    "y_pred = mod.predict(X_test)\n",
    "test_metrics.loc[len(test_metrics)] = {\n",
    "    'Model':'Logistic Regression',\n",
    "    'Accuracy':accuracy_score(y_test,y_pred),\n",
    "    'F1':f1_score(y_test,y_pred),\n",
    "    'Precision':precision_score(y_test,y_pred),\n",
    "    'Recall':recall_score(y_test,y_pred)\n",
    "}\n",
    "\n",
    "ConfusionMatrixDisplay(confusion_matrix(y_test,y_pred)).plot()\n",
    "\n",
    "display(test_metrics)"
   ]
  },
  {
   "cell_type": "code",
   "execution_count": null,
   "metadata": {},
   "outputs": [],
   "source": []
  }
 ],
 "metadata": {
  "kernelspec": {
   "display_name": "Python 3",
   "language": "python",
   "name": "python3"
  },
  "language_info": {
   "codemirror_mode": {
    "name": "ipython",
    "version": 3
   },
   "file_extension": ".py",
   "mimetype": "text/x-python",
   "name": "python",
   "nbconvert_exporter": "python",
   "pygments_lexer": "ipython3",
   "version": "3.11.4"
  }
 },
 "nbformat": 4,
 "nbformat_minor": 2
}
