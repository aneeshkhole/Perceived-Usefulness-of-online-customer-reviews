{
 "cells": [
  {
   "cell_type": "code",
   "execution_count": 55,
   "metadata": {},
   "outputs": [],
   "source": [
    "import pandas as pd, numpy as np, matplotlib.pyplot as plt\n",
    "import seaborn as sns\n",
    "import random\n",
    "# from sklearn import tree\n",
    "from sklearn.metrics import (\n",
    "    accuracy_score,f1_score,\n",
    "    precision_score,recall_score, \n",
    "    confusion_matrix, ConfusionMatrixDisplay,\n",
    ")\n",
    "from sklearn.model_selection import train_test_split\n",
    "from sklearn.neighbors import KNeighborsClassifier"
   ]
  },
  {
   "cell_type": "code",
   "execution_count": 56,
   "metadata": {},
   "outputs": [
    {
     "name": "stderr",
     "output_type": "stream",
     "text": [
      "C:\\Users\\uttar\\AppData\\Local\\Temp\\ipykernel_2356\\1045152221.py:7: DtypeWarning: Columns (11) have mixed types. Specify dtype option on import or set low_memory=False.\n",
      "  review_data = pd.read_csv('../data/all_reviews_without_unicode.csv')\n"
     ]
    },
    {
     "data": {
      "text/html": [
       "<div>\n",
       "<style scoped>\n",
       "    .dataframe tbody tr th:only-of-type {\n",
       "        vertical-align: middle;\n",
       "    }\n",
       "\n",
       "    .dataframe tbody tr th {\n",
       "        vertical-align: top;\n",
       "    }\n",
       "\n",
       "    .dataframe thead th {\n",
       "        text-align: right;\n",
       "    }\n",
       "</style>\n",
       "<table border=\"1\" class=\"dataframe\">\n",
       "  <thead>\n",
       "    <tr style=\"text-align: right;\">\n",
       "      <th></th>\n",
       "      <th>productID</th>\n",
       "      <th>prodSiteID</th>\n",
       "      <th>review_header</th>\n",
       "      <th>reviewer_name</th>\n",
       "      <th>review_content</th>\n",
       "      <th>review_star_rating</th>\n",
       "      <th>review_helpful_votes</th>\n",
       "      <th>verified_purchase</th>\n",
       "      <th>review_subjectivity</th>\n",
       "      <th>review_polarity</th>\n",
       "      <th>...</th>\n",
       "      <th>review_lang</th>\n",
       "      <th>site_x</th>\n",
       "      <th>site_outlier</th>\n",
       "      <th>site_outlier_en</th>\n",
       "      <th>global_outlier</th>\n",
       "      <th>global_outlier_en</th>\n",
       "      <th>product_price</th>\n",
       "      <th>prod_subjectivity</th>\n",
       "      <th>total_star_rating</th>\n",
       "      <th>site_y</th>\n",
       "    </tr>\n",
       "  </thead>\n",
       "  <tbody>\n",
       "    <tr>\n",
       "      <th>0</th>\n",
       "      <td>1</td>\n",
       "      <td>AMAZON1</td>\n",
       "      <td>It is renewed but looked like new</td>\n",
       "      <td>Andre</td>\n",
       "      <td>It was packaged very well, Amazon packaging, n...</td>\n",
       "      <td>5</td>\n",
       "      <td>1</td>\n",
       "      <td>True</td>\n",
       "      <td>0.588232</td>\n",
       "      <td>0.258266</td>\n",
       "      <td>...</td>\n",
       "      <td>en</td>\n",
       "      <td>Amazon</td>\n",
       "      <td>0</td>\n",
       "      <td>0</td>\n",
       "      <td>0</td>\n",
       "      <td>0</td>\n",
       "      <td>664.71</td>\n",
       "      <td>0.497845</td>\n",
       "      <td>4.2</td>\n",
       "      <td>amazon</td>\n",
       "    </tr>\n",
       "    <tr>\n",
       "      <th>1</th>\n",
       "      <td>1</td>\n",
       "      <td>AMAZON1</td>\n",
       "      <td>Worth it</td>\n",
       "      <td>Alice</td>\n",
       "      <td>The phone came in perfect conditions, without ...</td>\n",
       "      <td>5</td>\n",
       "      <td>2</td>\n",
       "      <td>True</td>\n",
       "      <td>0.430909</td>\n",
       "      <td>0.447273</td>\n",
       "      <td>...</td>\n",
       "      <td>en</td>\n",
       "      <td>Amazon</td>\n",
       "      <td>0</td>\n",
       "      <td>0</td>\n",
       "      <td>0</td>\n",
       "      <td>0</td>\n",
       "      <td>664.71</td>\n",
       "      <td>0.497845</td>\n",
       "      <td>4.2</td>\n",
       "      <td>amazon</td>\n",
       "    </tr>\n",
       "    <tr>\n",
       "      <th>2</th>\n",
       "      <td>1</td>\n",
       "      <td>AMAZON1</td>\n",
       "      <td>Amazon Warehouse for the Win!</td>\n",
       "      <td>Mrs. K</td>\n",
       "      <td>I got a great deal on this at Amazon Warehouse...</td>\n",
       "      <td>5</td>\n",
       "      <td>2</td>\n",
       "      <td>True</td>\n",
       "      <td>0.554959</td>\n",
       "      <td>0.394215</td>\n",
       "      <td>...</td>\n",
       "      <td>en</td>\n",
       "      <td>Amazon</td>\n",
       "      <td>0</td>\n",
       "      <td>0</td>\n",
       "      <td>0</td>\n",
       "      <td>0</td>\n",
       "      <td>664.71</td>\n",
       "      <td>0.497845</td>\n",
       "      <td>4.2</td>\n",
       "      <td>amazon</td>\n",
       "    </tr>\n",
       "    <tr>\n",
       "      <th>3</th>\n",
       "      <td>1</td>\n",
       "      <td>AMAZON1</td>\n",
       "      <td>Awesome</td>\n",
       "      <td>David Chaves Rojas</td>\n",
       "      <td>Got my phone, 10/10. No scratches, still have ...</td>\n",
       "      <td>5</td>\n",
       "      <td>0</td>\n",
       "      <td>True</td>\n",
       "      <td>1.000000</td>\n",
       "      <td>1.000000</td>\n",
       "      <td>...</td>\n",
       "      <td>en</td>\n",
       "      <td>Amazon</td>\n",
       "      <td>2</td>\n",
       "      <td>2</td>\n",
       "      <td>0</td>\n",
       "      <td>0</td>\n",
       "      <td>664.71</td>\n",
       "      <td>0.497845</td>\n",
       "      <td>4.2</td>\n",
       "      <td>amazon</td>\n",
       "    </tr>\n",
       "    <tr>\n",
       "      <th>4</th>\n",
       "      <td>1</td>\n",
       "      <td>AMAZON1</td>\n",
       "      <td>Like new iPhone 14</td>\n",
       "      <td>Rick</td>\n",
       "      <td>The iPhone 14 came with a battery that had 100...</td>\n",
       "      <td>5</td>\n",
       "      <td>0</td>\n",
       "      <td>True</td>\n",
       "      <td>0.636364</td>\n",
       "      <td>0.424242</td>\n",
       "      <td>...</td>\n",
       "      <td>en</td>\n",
       "      <td>Amazon</td>\n",
       "      <td>0</td>\n",
       "      <td>0</td>\n",
       "      <td>0</td>\n",
       "      <td>0</td>\n",
       "      <td>664.71</td>\n",
       "      <td>0.497845</td>\n",
       "      <td>4.2</td>\n",
       "      <td>amazon</td>\n",
       "    </tr>\n",
       "  </tbody>\n",
       "</table>\n",
       "<p>5 rows × 22 columns</p>\n",
       "</div>"
      ],
      "text/plain": [
       "   productID prodSiteID                      review_header  \\\n",
       "0          1    AMAZON1  It is renewed but looked like new   \n",
       "1          1    AMAZON1                           Worth it   \n",
       "2          1    AMAZON1      Amazon Warehouse for the Win!   \n",
       "3          1    AMAZON1                            Awesome   \n",
       "4          1    AMAZON1                 Like new iPhone 14   \n",
       "\n",
       "        reviewer_name                                     review_content  \\\n",
       "0               Andre  It was packaged very well, Amazon packaging, n...   \n",
       "1               Alice  The phone came in perfect conditions, without ...   \n",
       "2              Mrs. K  I got a great deal on this at Amazon Warehouse...   \n",
       "3  David Chaves Rojas  Got my phone, 10/10. No scratches, still have ...   \n",
       "4                Rick  The iPhone 14 came with a battery that had 100...   \n",
       "\n",
       "   review_star_rating  review_helpful_votes  verified_purchase  \\\n",
       "0                   5                     1               True   \n",
       "1                   5                     2               True   \n",
       "2                   5                     2               True   \n",
       "3                   5                     0               True   \n",
       "4                   5                     0               True   \n",
       "\n",
       "   review_subjectivity  review_polarity  ...  review_lang  site_x  \\\n",
       "0             0.588232         0.258266  ...           en  Amazon   \n",
       "1             0.430909         0.447273  ...           en  Amazon   \n",
       "2             0.554959         0.394215  ...           en  Amazon   \n",
       "3             1.000000         1.000000  ...           en  Amazon   \n",
       "4             0.636364         0.424242  ...           en  Amazon   \n",
       "\n",
       "  site_outlier site_outlier_en  global_outlier  global_outlier_en  \\\n",
       "0            0               0               0                  0   \n",
       "1            0               0               0                  0   \n",
       "2            0               0               0                  0   \n",
       "3            2               2               0                  0   \n",
       "4            0               0               0                  0   \n",
       "\n",
       "   product_price  prod_subjectivity  total_star_rating  site_y  \n",
       "0         664.71           0.497845                4.2  amazon  \n",
       "1         664.71           0.497845                4.2  amazon  \n",
       "2         664.71           0.497845                4.2  amazon  \n",
       "3         664.71           0.497845                4.2  amazon  \n",
       "4         664.71           0.497845                4.2  amazon  \n",
       "\n",
       "[5 rows x 22 columns]"
      ]
     },
     "execution_count": 56,
     "metadata": {},
     "output_type": "execute_result"
    }
   ],
   "source": [
    "#read in all of our product data\n",
    "product_data = pd.read_csv('../data/master_product_list.csv')\n",
    "#make it so that the IDs match up for joins\n",
    "product_data['prodSiteID'] = product_data['prodSiteID'].str.upper()\n",
    "\n",
    "#read in all of our review data\n",
    "review_data = pd.read_csv('../data/all_reviews_without_unicode.csv')\n",
    "#make it so that the IDs match up for joins\n",
    "review_data['prodSiteID'] = review_data['prodSiteID'].str.upper()\n",
    "\n",
    "#merge some key variables from the products dataframe\n",
    "#into the review dataframe for supporting model building and \n",
    "#analysis\n",
    "review_data = review_data.merge(\n",
    "    right=pd.DataFrame(\n",
    "      product_data[\n",
    "        [\n",
    "            'product_price','prodSiteID',\n",
    "            'prod_subjectivity','total_star_rating','site'\n",
    "        ]\n",
    "      ]\n",
    "    ),\n",
    "    on='prodSiteID',\n",
    "    how='left'\n",
    ")\n",
    "\n",
    "review_data.head()"
   ]
  },
  {
   "cell_type": "code",
   "execution_count": 57,
   "metadata": {},
   "outputs": [
    {
     "data": {
      "text/plain": [
       "Index(['productID', 'prodSiteID', 'review_header', 'reviewer_name',\n",
       "       'review_content', 'review_star_rating', 'review_helpful_votes',\n",
       "       'verified_purchase', 'review_subjectivity', 'review_polarity',\n",
       "       'review_length', 'url', 'review_lang', 'site_x', 'site_outlier',\n",
       "       'site_outlier_en', 'global_outlier', 'global_outlier_en',\n",
       "       'product_price', 'prod_subjectivity', 'total_star_rating', 'site_y'],\n",
       "      dtype='object')"
      ]
     },
     "execution_count": 57,
     "metadata": {},
     "output_type": "execute_result"
    }
   ],
   "source": [
    "review_data.columns"
   ]
  },
  {
   "cell_type": "code",
   "execution_count": 58,
   "metadata": {},
   "outputs": [],
   "source": [
    "review_data['is_helpful'] = np.select(\n",
    "    [\n",
    "        review_data['review_helpful_votes'] > 0,\n",
    "        review_data['review_helpful_votes'] == 0 | review_data['review_helpful_votes'].isna(),\n",
    "    ],\n",
    "    [\n",
    "        1,\n",
    "        0\n",
    "    ]\n",
    ")"
   ]
  },
  {
   "cell_type": "code",
   "execution_count": 59,
   "metadata": {},
   "outputs": [
    {
     "data": {
      "text/plain": [
       "(87416, 23)"
      ]
     },
     "execution_count": 59,
     "metadata": {},
     "output_type": "execute_result"
    }
   ],
   "source": [
    "oversampled_data = (review_data[review_data['is_helpful'] == 1]).sample(n=len(review_data[review_data['is_helpful'] == 0]), replace=True, random_state=42)\n",
    "balanced_data = pd.concat([review_data[review_data['is_helpful'] == 0], oversampled_data])\n",
    "review_data_new = balanced_data.sample(frac=1, random_state=42).reset_index(drop=True)\n",
    "\n",
    "review_data_new.shape"
   ]
  },
  {
   "cell_type": "code",
   "execution_count": 60,
   "metadata": {},
   "outputs": [],
   "source": [
    "#this dataframe can be used for training and testing initially.\n",
    "#there may still be outliers within this dataset, and as such,\n",
    "#we may need to filter them down prior to training and testing\n",
    "#our models.\n",
    "review_data_new = pd.DataFrame(\n",
    "    review_data_new[\n",
    "        (review_data_new['productID'].isin([1,2,3,5,6,8,9,11,12,13,14,15])) &\n",
    "        (review_data_new['review_lang']=='en')\n",
    "    ]\n",
    ")"
   ]
  },
  {
   "cell_type": "code",
   "execution_count": 61,
   "metadata": {},
   "outputs": [],
   "source": [
    "#not sure if this is needed, but it's available to help support\n",
    "# filtering data when/where needed.   \n",
    "review_metrics = pd.read_csv('../data/combined_review_metrics.csv')"
   ]
  },
  {
   "cell_type": "code",
   "execution_count": 62,
   "metadata": {},
   "outputs": [],
   "source": [
    "#this is a dataframe where we can capture our metrics for each\n",
    "#run of each model as we seek to optimize.\n",
    "#there is example code in the blocks below to help us \n",
    "#add the metrics to this frame progressively.\n",
    "test_metrics = pd.DataFrame(\n",
    "    {\n",
    "        'Model':[],\n",
    "        'Accuracy':[],\n",
    "        'F1':[],\n",
    "        'Precision':[],\n",
    "        'Recall':[]\n",
    "    }\n",
    ")"
   ]
  },
  {
   "cell_type": "code",
   "execution_count": 63,
   "metadata": {},
   "outputs": [],
   "source": [
    "from sklearn.preprocessing import StandardScaler\n",
    "\n",
    "X,y = [review_data_new[\n",
    "    ['review_star_rating','verified_purchase','review_subjectivity',\n",
    "    'review_polarity', 'review_length','product_price', 'prod_subjectivity', 'total_star_rating']\n",
    "],review_data_new['is_helpful']]\n",
    "\n",
    "scaler = StandardScaler()\n",
    "X = scaler.fit_transform(X)\n",
    "\n",
    "X_train,X_test,y_train,y_test = train_test_split(\n",
    "    X,\n",
    "    y,\n",
    "    test_size=0.8,\n",
    "    random_state=123\n",
    ")"
   ]
  },
  {
   "cell_type": "code",
   "execution_count": 64,
   "metadata": {},
   "outputs": [],
   "source": [
    "random.seed(123)\n",
    "\n",
    "knn = KNeighborsClassifier(n_neighbors=3)\n",
    "knn.fit(X_train,y_train)\n",
    "y_pred = knn.predict(X_test)\n",
    "test_metrics.loc[len(test_metrics)] = {\n",
    "    'Model':'K-Nearest Neighbors',\n",
    "    'Accuracy':accuracy_score(y_test,y_pred),\n",
    "    'F1':f1_score(y_test,y_pred),\n",
    "    'Precision':precision_score(y_test,y_pred),\n",
    "    'Recall':recall_score(y_test,y_pred)\n",
    "}"
   ]
  },
  {
   "cell_type": "code",
   "execution_count": 65,
   "metadata": {},
   "outputs": [
    {
     "data": {
      "text/plain": [
       "<sklearn.metrics._plot.confusion_matrix.ConfusionMatrixDisplay at 0x12a0ef665d0>"
      ]
     },
     "execution_count": 65,
     "metadata": {},
     "output_type": "execute_result"
    },
    {
     "data": {
      "image/png": "[encoded data removed]",
      "text/plain": [
       "<Figure size 640x480 with 2 Axes>"
      ]
     },
     "metadata": {},
     "output_type": "display_data"
    }
   ],
   "source": [
    "ConfusionMatrixDisplay(confusion_matrix(y_test,y_pred)).plot()"
   ]
  },
  {
   "cell_type": "code",
   "execution_count": 66,
   "metadata": {},
   "outputs": [
    {
     "data": {
      "text/html": [
       "<div>\n",
       "<style scoped>\n",
       "    .dataframe tbody tr th:only-of-type {\n",
       "        vertical-align: middle;\n",
       "    }\n",
       "\n",
       "    .dataframe tbody tr th {\n",
       "        vertical-align: top;\n",
       "    }\n",
       "\n",
       "    .dataframe thead th {\n",
       "        text-align: right;\n",
       "    }\n",
       "</style>\n",
       "<table border=\"1\" class=\"dataframe\">\n",
       "  <thead>\n",
       "    <tr style=\"text-align: right;\">\n",
       "      <th></th>\n",
       "      <th>Model</th>\n",
       "      <th>Accuracy</th>\n",
       "      <th>F1</th>\n",
       "      <th>Precision</th>\n",
       "      <th>Recall</th>\n",
       "    </tr>\n",
       "  </thead>\n",
       "  <tbody>\n",
       "    <tr>\n",
       "      <th>0</th>\n",
       "      <td>K-Nearest Neighbors</td>\n",
       "      <td>0.871872</td>\n",
       "      <td>0.870038</td>\n",
       "      <td>0.823825</td>\n",
       "      <td>0.921744</td>\n",
       "    </tr>\n",
       "  </tbody>\n",
       "</table>\n",
       "</div>"
      ],
      "text/plain": [
       "                 Model  Accuracy        F1  Precision    Recall\n",
       "0  K-Nearest Neighbors  0.871872  0.870038   0.823825  0.921744"
      ]
     },
     "metadata": {},
     "output_type": "display_data"
    }
   ],
   "source": [
    "display(test_metrics)"
   ]
  },
  {
   "cell_type": "code",
   "execution_count": null,
   "metadata": {},
   "outputs": [],
   "source": []
  },
  {
   "cell_type": "code",
   "execution_count": null,
   "metadata": {},
   "outputs": [],
   "source": []
  }
 ],
 "metadata": {
  "kernelspec": {
   "display_name": "Python 3",
   "language": "python",
   "name": "python3"
  },
  "language_info": {
   "codemirror_mode": {
    "name": "ipython",
    "version": 3
   },
   "file_extension": ".py",
   "mimetype": "text/x-python",
   "name": "python",
   "nbconvert_exporter": "python",
   "pygments_lexer": "ipython3",
   "version": "3.11.4"
  }
 },
 "nbformat": 4,
 "nbformat_minor": 2
}
