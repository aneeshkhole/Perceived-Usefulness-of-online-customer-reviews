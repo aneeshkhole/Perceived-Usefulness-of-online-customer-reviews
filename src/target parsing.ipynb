{
 "cells": [
  {
   "cell_type": "code",
   "execution_count": 24,
   "metadata": {},
   "outputs": [],
   "source": [
    "from bs4 import BeautifulSoup as BS\n",
    "import pandas as pd, numpy as np\n",
    "import urllib\n",
    "#import requests\n",
    "#from selenium import ...\n",
    "\n"
   ]
  },
  {
   "cell_type": "code",
   "execution_count": 25,
   "metadata": {},
   "outputs": [],
   "source": [
    "url='https://www.target.com/p/doritos-nacho-cheese-flavored-tortilla-chips-14-5oz/-/A-13319564?ref=tgt_adv_xsp&AFID=google&fndsrc=tgtao&DFA=71700000108139139&CPNG=PLA_Snacks%2BCandy%2BShopping_Local%7CSnacks%2BCandy_Ecomm_Food_Bev&adgroup=SC_Snacks%2BCandy&LID=700000001170770pgs&LNM=PRODUCT_GROUP&network=g&device=c&location=9028882&targetid=pla-566872943420&gad_source=1&gclid=CjwKCAiA_tuuBhAUEiwAvxkgTrVUgEoQxO7gDRv43EXIBS0LKEJIZzesWGUMd9JSJq7OybsxjUxfSxoCYmYQAvD_BwE&gclsrc=aw.ds'\n",
    "req = urllib.request.Request(url,headers={'User-Agent':'Mozilla/5.0'})\n",
    "data = urllib.request.urlopen(req)\n",
    "\n",
    "soup = BS(data.read())"
   ]
  },
  {
   "cell_type": "code",
   "execution_count": 26,
   "metadata": {},
   "outputs": [],
   "source": [
    "#soup"
   ]
  },
  {
   "cell_type": "code",
   "execution_count": 27,
   "metadata": {},
   "outputs": [
    {
     "data": {
      "text/plain": [
       "'Doritos Nacho Cheese Flavored Tortilla Chips - 14.5oz'"
      ]
     },
     "metadata": {},
     "output_type": "display_data"
    },
    {
     "data": {
      "text/plain": [
       "<span aria-atomic=\"true\" aria-live=\"assertive\" class=\"utils__ScreenReaderOnly-sc-1b93ups-0 hMtWwx\"></span>"
      ]
     },
     "metadata": {},
     "output_type": "display_data"
    },
    {
     "data": {
      "text/plain": [
       "None"
      ]
     },
     "metadata": {},
     "output_type": "display_data"
    },
    {
     "data": {
      "text/plain": [
       "None"
      ]
     },
     "metadata": {},
     "output_type": "display_data"
    }
   ],
   "source": [
    "title = soup.find('h1',{'data-test':'product-title','id':'pdp-product-title-id'}).getText()\n",
    "\n",
    "price = soup.find('span',{'data-test':'product-price','class':'kwKAiv'})\n",
    "\n",
    "rating = soup.find('span',{'class':'hMtWwx'})\n",
    "\n",
    "desc = soup.find('div',{'data-test':'item-details-description'})\n",
    "\n",
    "button = soup.find('button',{'aria-label':'show all reviews'})\n",
    "\n",
    "display(\n",
    "    title,\n",
    "    rating,\n",
    "    price,\n",
    "    desc\n",
    ")"
   ]
  },
  {
   "cell_type": "code",
   "execution_count": 28,
   "metadata": {},
   "outputs": [],
   "source": [
    "soup.find('span',{'data-test':'PriceFull'})"
   ]
  },
  {
   "cell_type": "code",
   "execution_count": 29,
   "metadata": {},
   "outputs": [],
   "source": [
    "desc"
   ]
  },
  {
   "cell_type": "code",
   "execution_count": 30,
   "metadata": {},
   "outputs": [],
   "source": [
    "button"
   ]
  },
  {
   "cell_type": "code",
   "execution_count": 31,
   "metadata": {},
   "outputs": [],
   "source": [
    "from selenium.webdriver.common.by import By\n",
    "from selenium import webdriver \n",
    "#from selenium.webdriver.edge import \n",
    "#import undetected_chromedriver as uc\n",
    "\n",
    "target_product_urls = [\n",
    "'https://www.target.com/p/doritos-nacho-cheese-flavored-tortilla-chips-14-5oz/-/A-13319564?ref=tgt_adv_xsp&AFID=google&fndsrc=tgtao&DFA=71700000108139139&CPNG=PLA_Snacks%2BCandy%2BShopping_Local%7CSnacks%2BCandy_Ecomm_Food_Bev&adgroup=SC_Snacks%2BCandy&LID=700000001170770pgs&LNM=PRODUCT_GROUP&network=g&device=c&location=9028882&targetid=pla-566872943420&gad_source=1&gclid=CjwKCAiA_tuuBhAUEiwAvxkgTrVUgEoQxO7gDRv43EXIBS0LKEJIZzesWGUMd9JSJq7OybsxjUxfSxoCYmYQAvD_BwE&gclsrc=aw.ds'\n",
    "]\n",
    "\n",
    "# amazon_product_urls = [\n",
    "\n",
    "# ]\n",
    "\n",
    "# bestbuy_product_urls = [\n",
    "\n",
    "# ]\n",
    "\n",
    "site_filters = {\n",
    "    'target':{\n",
    "        'parse_list':[\n",
    "            ('product_name','h1',{'data-test':'product-title','id':'pdp-product-title-id'}),\n",
    "            ('product_price','',{}),\n",
    "            ('star_rating','',{}),\n",
    "            ('review_expand','',{}),\n",
    "            ('review_link','',{}),\n",
    "            ('product_detail_button','',{}),\n",
    "            ('product_detail','',{}),\n",
    "            ('product_description','',{}),\n",
    "            ('product_specs_button','',{}),\n",
    "            ('product_specs','',{}),\n",
    "            ('questions_button','',{}),\n",
    "            ('questions','',{})\n",
    "        ],\n",
    "        'button_list':[\n",
    "\n",
    "        ]\n",
    "    }\n",
    "}\n",
    "driver = webdriver.Edge()\n",
    "\n",
    "#driver.get('https://www.google.com')\n",
    "# target_products = {\n",
    "\n",
    "# }\n",
    "\n",
    "#driver = uc.Chrome(use_subprocess=True)\n",
    "\n",
    "# for product in target_product_urls:\n",
    "#     driver.get(product)\n",
    "#     #price information\n",
    "#     x = driver.find_element(By.CLASS_NAME,'kwKAiv')\n",
    "#     print(x.text)\n",
    "\n",
    "#     #driver.find_elements(By.CSS_SELECTOR,)\n",
    "\n",
    "#     x = driver.find_element(By.XPATH,'//[@data-test=\"ratingFeedbackContainer\"]')\n",
    "#     x.click()\n"
   ]
  },
  {
   "cell_type": "code",
   "execution_count": 44,
   "metadata": {},
   "outputs": [
    {
     "name": "stdout",
     "output_type": "stream",
     "text": [
      "Help on class By in module selenium.webdriver.common.by:\n",
      "\n",
      "class By(builtins.object)\n",
      " |  Set of supported locator strategies.\n",
      " |  \n",
      " |  Data descriptors defined here:\n",
      " |  \n",
      " |  __dict__\n",
      " |      dictionary for instance variables (if defined)\n",
      " |  \n",
      " |  __weakref__\n",
      " |      list of weak references to the object (if defined)\n",
      " |  \n",
      " |  ----------------------------------------------------------------------\n",
      " |  Data and other attributes defined here:\n",
      " |  \n",
      " |  CLASS_NAME = 'class name'\n",
      " |  \n",
      " |  CSS_SELECTOR = 'css selector'\n",
      " |  \n",
      " |  ID = 'id'\n",
      " |  \n",
      " |  LINK_TEXT = 'link text'\n",
      " |  \n",
      " |  NAME = 'name'\n",
      " |  \n",
      " |  PARTIAL_LINK_TEXT = 'partial link text'\n",
      " |  \n",
      " |  TAG_NAME = 'tag name'\n",
      " |  \n",
      " |  XPATH = 'xpath'\n",
      "\n"
     ]
    }
   ],
   "source": [
    "help(By)"
   ]
  },
  {
   "cell_type": "code",
   "execution_count": 32,
   "metadata": {},
   "outputs": [],
   "source": [
    "driver.get(target_product_urls[0])"
   ]
  },
  {
   "cell_type": "code",
   "execution_count": 33,
   "metadata": {},
   "outputs": [],
   "source": [
    "title = driver.find_element(by=By.XPATH,value=\"//h1[@data-test='product-title']\")\n",
    "\n",
    "feedback = driver.find_element(by=By.XPATH,value=\"//div[@data-test='ratingFeedbackContainer']\")\n",
    "\n"
   ]
  },
  {
   "cell_type": "code",
   "execution_count": 34,
   "metadata": {},
   "outputs": [],
   "source": [
    "details = driver.find_element(by=By.XPATH,value=\"//div[@data-test='@web/site-top-of-funnel/ProductDetailCollapsible-Details']\")\n",
    "specs = driver.find_element(by=By.XPATH,value=\"//div[@data-test='@web/site-top-of-funnel/ProductDetailCollapsible-Specifications']\")"
   ]
  },
  {
   "cell_type": "code",
   "execution_count": 35,
   "metadata": {},
   "outputs": [],
   "source": [
    "details.click()\n",
    "specs.click()"
   ]
  },
  {
   "cell_type": "code",
   "execution_count": 40,
   "metadata": {},
   "outputs": [
    {
     "data": {
      "text/plain": [
       "\"Contains: Milk\\nState of Readiness: Ready to Eat\\nForm: Chip\\nPackage Quantity: 1\\nNet weight: 15 Ounces\\nTCIN: 13319564\\nUPC: 028400643061\\nItem Number (DPCI): 071-05-0202\\nOrigin: Made in the USA or Imported\\nGrocery Disclaimer:\\nContent on this site is for reference purposes only. Target does not represent or warrant that the nutrition, ingredient, allergen and other product information on our Web or Mobile sites are accurate or complete, since this information comes from the product manufacturers. On occasion, manufacturers may improve or change their product formulas and update their labels. We recommend that you do not rely solely on the information presented on our Web or Mobile sites and that you review the product's label or contact the manufacturer directly if you have specific product concerns or questions. If you have specific healthcare concerns or questions about the products displayed, please contact your licensed healthcare professional for advice or answers. Any additional pictures are suggested servings only.\""
      ]
     },
     "metadata": {},
     "output_type": "display_data"
    },
    {
     "data": {
      "text/plain": [
       "\"Highlights\\n15.0oz. bag of DORITOS Nacho Cheese Flavored Tortilla Chips\\nYour favorite bold nacho cheese flavored tortilla chips\\nPerfect snack for sharing with friends\\nCrunchy chips and boldness make DORITOS snacks awesome\\nDescription\\nThe DORITOS brand is all about boldness especially with this bold nacho cheese flavored tortilla chips. If you're up to the challenge, grab a bag of DORITOS tortilla chips and get ready to make some memories you won't soon forget. Share with friends or enjoy solo. It's a bold experience in snacking and beyond.\""
      ]
     },
     "metadata": {},
     "output_type": "display_data"
    }
   ],
   "source": [
    "specs_data = driver.find_element(By.XPATH,value=\"//div[@data-test='item-details-specifications']\")\n",
    "specs_data.text\n",
    "\n",
    "details_data = driver.find_element(By.XPATH,value=\"//div[@data-test='productDetailTabs-itemDetailsTab']\")\n",
    "details_data.text\n",
    "\n",
    "display( \n",
    "    specs_data.text,\n",
    "    details_data.text\n",
    ")"
   ]
  },
  {
   "cell_type": "code",
   "execution_count": 16,
   "metadata": {},
   "outputs": [
    {
     "ename": "ElementClickInterceptedException",
     "evalue": "Message: element click intercepted: Element <div class=\"h-display-flex\" data-test=\"ratingFeedbackContainer\">...</div> is not clickable at point (618, 11). Other element would receive the click: <nav data-test=\"@web/HeaderPrimaryNav\" id=\"headerPrimary\" class=\"styles__StyledNav-sc-1ubttmn-0 UWpaa\">...</nav>\n  (Session info: MicrosoftEdge=122.0.2365.52)\nStacktrace:\n\tGetHandleVerifier [0x00007FF74DD05D42+55138]\n\tMicrosoft::Applications::Events::ILogConfiguration::operator* [0x00007FF74DC921C2+219010]\n\t(No symbol) [0x00007FF74DAC3407]\n\t(No symbol) [0x00007FF74DB0FD18]\n\t(No symbol) [0x00007FF74DB0DF7C]\n\t(No symbol) [0x00007FF74DB0BC91]\n\t(No symbol) [0x00007FF74DB0ACA6]\n\t(No symbol) [0x00007FF74DAFF786]\n\t(No symbol) [0x00007FF74DB28E0A]\n\t(No symbol) [0x00007FF74DAFF017]\n\t(No symbol) [0x00007FF74DAFEEDD]\n\t(No symbol) [0x00007FF74DB290F0]\n\t(No symbol) [0x00007FF74DAFF017]\n\t(No symbol) [0x00007FF74DB41F59]\n\t(No symbol) [0x00007FF74DB28A73]\n\t(No symbol) [0x00007FF74DAFE53E]\n\t(No symbol) [0x00007FF74DAFD6FC]\n\t(No symbol) [0x00007FF74DAFE0F1]\n\tMicrosoft::Applications::Events::EventProperty::to_string [0x00007FF74DEBED2C+1067068]\n\t(No symbol) [0x00007FF74DB733C6]\n\t(No symbol) [0x00007FF74DC0CFAC]\n\t(No symbol) [0x00007FF74DC04978]\n\tMicrosoft::Applications::Events::EventProperty::to_string [0x00007FF74DEBDC75+1062789]\n\tMicrosoft::Applications::Events::ILogConfiguration::operator* [0x00007FF74DC9BBB1+258417]\n\tMicrosoft::Applications::Events::ILogConfiguration::operator* [0x00007FF74DC96AB4+237684]\n\tMicrosoft::Applications::Events::ILogConfiguration::operator* [0x00007FF74DC96BEF+237999]\n\tMicrosoft::Applications::Events::ILogConfiguration::operator* [0x00007FF74DC8D6A1+199777]\n\tBaseThreadInitThunk [0x00007FF8690F257D+29]\n\tRtlUserThreadStart [0x00007FF86AF8AA58+40]\n",
     "output_type": "error",
     "traceback": [
      "\u001b[1;31m---------------------------------------------------------------------------\u001b[0m",
      "\u001b[1;31mElementClickInterceptedException\u001b[0m          Traceback (most recent call last)",
      "Cell \u001b[1;32mIn[16], line 1\u001b[0m\n\u001b[1;32m----> 1\u001b[0m \u001b[43mfeedback\u001b[49m\u001b[38;5;241;43m.\u001b[39;49m\u001b[43mclick\u001b[49m\u001b[43m(\u001b[49m\u001b[43m)\u001b[49m\n",
      "File \u001b[1;32mc:\\Users\\pconn\\miniconda3\\lib\\site-packages\\selenium\\webdriver\\remote\\webelement.py:94\u001b[0m, in \u001b[0;36mWebElement.click\u001b[1;34m(self)\u001b[0m\n\u001b[0;32m     92\u001b[0m \u001b[38;5;28;01mdef\u001b[39;00m \u001b[38;5;21mclick\u001b[39m(\u001b[38;5;28mself\u001b[39m) \u001b[38;5;241m-\u001b[39m\u001b[38;5;241m>\u001b[39m \u001b[38;5;28;01mNone\u001b[39;00m:\n\u001b[0;32m     93\u001b[0m \u001b[38;5;250m    \u001b[39m\u001b[38;5;124;03m\"\"\"Clicks the element.\"\"\"\u001b[39;00m\n\u001b[1;32m---> 94\u001b[0m     \u001b[38;5;28;43mself\u001b[39;49m\u001b[38;5;241;43m.\u001b[39;49m\u001b[43m_execute\u001b[49m\u001b[43m(\u001b[49m\u001b[43mCommand\u001b[49m\u001b[38;5;241;43m.\u001b[39;49m\u001b[43mCLICK_ELEMENT\u001b[49m\u001b[43m)\u001b[49m\n",
      "File \u001b[1;32mc:\\Users\\pconn\\miniconda3\\lib\\site-packages\\selenium\\webdriver\\remote\\webelement.py:395\u001b[0m, in \u001b[0;36mWebElement._execute\u001b[1;34m(self, command, params)\u001b[0m\n\u001b[0;32m    393\u001b[0m     params \u001b[38;5;241m=\u001b[39m {}\n\u001b[0;32m    394\u001b[0m params[\u001b[38;5;124m\"\u001b[39m\u001b[38;5;124mid\u001b[39m\u001b[38;5;124m\"\u001b[39m] \u001b[38;5;241m=\u001b[39m \u001b[38;5;28mself\u001b[39m\u001b[38;5;241m.\u001b[39m_id\n\u001b[1;32m--> 395\u001b[0m \u001b[38;5;28;01mreturn\u001b[39;00m \u001b[38;5;28;43mself\u001b[39;49m\u001b[38;5;241;43m.\u001b[39;49m\u001b[43m_parent\u001b[49m\u001b[38;5;241;43m.\u001b[39;49m\u001b[43mexecute\u001b[49m\u001b[43m(\u001b[49m\u001b[43mcommand\u001b[49m\u001b[43m,\u001b[49m\u001b[43m \u001b[49m\u001b[43mparams\u001b[49m\u001b[43m)\u001b[49m\n",
      "File \u001b[1;32mc:\\Users\\pconn\\miniconda3\\lib\\site-packages\\selenium\\webdriver\\remote\\webdriver.py:347\u001b[0m, in \u001b[0;36mWebDriver.execute\u001b[1;34m(self, driver_command, params)\u001b[0m\n\u001b[0;32m    345\u001b[0m response \u001b[38;5;241m=\u001b[39m \u001b[38;5;28mself\u001b[39m\u001b[38;5;241m.\u001b[39mcommand_executor\u001b[38;5;241m.\u001b[39mexecute(driver_command, params)\n\u001b[0;32m    346\u001b[0m \u001b[38;5;28;01mif\u001b[39;00m response:\n\u001b[1;32m--> 347\u001b[0m     \u001b[38;5;28;43mself\u001b[39;49m\u001b[38;5;241;43m.\u001b[39;49m\u001b[43merror_handler\u001b[49m\u001b[38;5;241;43m.\u001b[39;49m\u001b[43mcheck_response\u001b[49m\u001b[43m(\u001b[49m\u001b[43mresponse\u001b[49m\u001b[43m)\u001b[49m\n\u001b[0;32m    348\u001b[0m     response[\u001b[38;5;124m\"\u001b[39m\u001b[38;5;124mvalue\u001b[39m\u001b[38;5;124m\"\u001b[39m] \u001b[38;5;241m=\u001b[39m \u001b[38;5;28mself\u001b[39m\u001b[38;5;241m.\u001b[39m_unwrap_value(response\u001b[38;5;241m.\u001b[39mget(\u001b[38;5;124m\"\u001b[39m\u001b[38;5;124mvalue\u001b[39m\u001b[38;5;124m\"\u001b[39m, \u001b[38;5;28;01mNone\u001b[39;00m))\n\u001b[0;32m    349\u001b[0m     \u001b[38;5;28;01mreturn\u001b[39;00m response\n",
      "File \u001b[1;32mc:\\Users\\pconn\\miniconda3\\lib\\site-packages\\selenium\\webdriver\\remote\\errorhandler.py:229\u001b[0m, in \u001b[0;36mErrorHandler.check_response\u001b[1;34m(self, response)\u001b[0m\n\u001b[0;32m    227\u001b[0m         alert_text \u001b[38;5;241m=\u001b[39m value[\u001b[38;5;124m\"\u001b[39m\u001b[38;5;124malert\u001b[39m\u001b[38;5;124m\"\u001b[39m]\u001b[38;5;241m.\u001b[39mget(\u001b[38;5;124m\"\u001b[39m\u001b[38;5;124mtext\u001b[39m\u001b[38;5;124m\"\u001b[39m)\n\u001b[0;32m    228\u001b[0m     \u001b[38;5;28;01mraise\u001b[39;00m exception_class(message, screen, stacktrace, alert_text)  \u001b[38;5;66;03m# type: ignore[call-arg]  # mypy is not smart enough here\u001b[39;00m\n\u001b[1;32m--> 229\u001b[0m \u001b[38;5;28;01mraise\u001b[39;00m exception_class(message, screen, stacktrace)\n",
      "\u001b[1;31mElementClickInterceptedException\u001b[0m: Message: element click intercepted: Element <div class=\"h-display-flex\" data-test=\"ratingFeedbackContainer\">...</div> is not clickable at point (618, 11). Other element would receive the click: <nav data-test=\"@web/HeaderPrimaryNav\" id=\"headerPrimary\" class=\"styles__StyledNav-sc-1ubttmn-0 UWpaa\">...</nav>\n  (Session info: MicrosoftEdge=122.0.2365.52)\nStacktrace:\n\tGetHandleVerifier [0x00007FF74DD05D42+55138]\n\tMicrosoft::Applications::Events::ILogConfiguration::operator* [0x00007FF74DC921C2+219010]\n\t(No symbol) [0x00007FF74DAC3407]\n\t(No symbol) [0x00007FF74DB0FD18]\n\t(No symbol) [0x00007FF74DB0DF7C]\n\t(No symbol) [0x00007FF74DB0BC91]\n\t(No symbol) [0x00007FF74DB0ACA6]\n\t(No symbol) [0x00007FF74DAFF786]\n\t(No symbol) [0x00007FF74DB28E0A]\n\t(No symbol) [0x00007FF74DAFF017]\n\t(No symbol) [0x00007FF74DAFEEDD]\n\t(No symbol) [0x00007FF74DB290F0]\n\t(No symbol) [0x00007FF74DAFF017]\n\t(No symbol) [0x00007FF74DB41F59]\n\t(No symbol) [0x00007FF74DB28A73]\n\t(No symbol) [0x00007FF74DAFE53E]\n\t(No symbol) [0x00007FF74DAFD6FC]\n\t(No symbol) [0x00007FF74DAFE0F1]\n\tMicrosoft::Applications::Events::EventProperty::to_string [0x00007FF74DEBED2C+1067068]\n\t(No symbol) [0x00007FF74DB733C6]\n\t(No symbol) [0x00007FF74DC0CFAC]\n\t(No symbol) [0x00007FF74DC04978]\n\tMicrosoft::Applications::Events::EventProperty::to_string [0x00007FF74DEBDC75+1062789]\n\tMicrosoft::Applications::Events::ILogConfiguration::operator* [0x00007FF74DC9BBB1+258417]\n\tMicrosoft::Applications::Events::ILogConfiguration::operator* [0x00007FF74DC96AB4+237684]\n\tMicrosoft::Applications::Events::ILogConfiguration::operator* [0x00007FF74DC96BEF+237999]\n\tMicrosoft::Applications::Events::ILogConfiguration::operator* [0x00007FF74DC8D6A1+199777]\n\tBaseThreadInitThunk [0x00007FF8690F257D+29]\n\tRtlUserThreadStart [0x00007FF86AF8AA58+40]\n"
     ]
    }
   ],
   "source": [
    "feedback.click()"
   ]
  },
  {
   "cell_type": "code",
   "execution_count": 17,
   "metadata": {},
   "outputs": [
    {
     "ename": "NoSuchElementException",
     "evalue": "Message: no such element: Unable to locate element: {\"method\":\"xpath\",\"selector\":\"//button[@data-test='totalReviewLink']\"}\n  (Session info: MicrosoftEdge=122.0.2365.52); For documentation on this error, please visit: https://www.selenium.dev/documentation/webdriver/troubleshooting/errors#no-such-element-exception\nStacktrace:\n\tGetHandleVerifier [0x00007FF74DD05D42+55138]\n\tMicrosoft::Applications::Events::ILogConfiguration::operator* [0x00007FF74DC921C2+219010]\n\t(No symbol) [0x00007FF74DAC3407]\n\t(No symbol) [0x00007FF74DB097E3]\n\t(No symbol) [0x00007FF74DB098A6]\n\t(No symbol) [0x00007FF74DB44397]\n\t(No symbol) [0x00007FF74DB28E4F]\n\t(No symbol) [0x00007FF74DAFF017]\n\t(No symbol) [0x00007FF74DB41F59]\n\t(No symbol) [0x00007FF74DB28A73]\n\t(No symbol) [0x00007FF74DAFE53E]\n\t(No symbol) [0x00007FF74DAFD6FC]\n\t(No symbol) [0x00007FF74DAFE0F1]\n\tMicrosoft::Applications::Events::EventProperty::to_string [0x00007FF74DEBED2C+1067068]\n\t(No symbol) [0x00007FF74DB733C6]\n\t(No symbol) [0x00007FF74DC0CFAC]\n\t(No symbol) [0x00007FF74DC04978]\n\tMicrosoft::Applications::Events::EventProperty::to_string [0x00007FF74DEBDC75+1062789]\n\tMicrosoft::Applications::Events::ILogConfiguration::operator* [0x00007FF74DC9BBB1+258417]\n\tMicrosoft::Applications::Events::ILogConfiguration::operator* [0x00007FF74DC96AB4+237684]\n\tMicrosoft::Applications::Events::ILogConfiguration::operator* [0x00007FF74DC96BEF+237999]\n\tMicrosoft::Applications::Events::ILogConfiguration::operator* [0x00007FF74DC8D6A1+199777]\n\tBaseThreadInitThunk [0x00007FF8690F257D+29]\n\tRtlUserThreadStart [0x00007FF86AF8AA58+40]\n",
     "output_type": "error",
     "traceback": [
      "\u001b[1;31m---------------------------------------------------------------------------\u001b[0m",
      "\u001b[1;31mNoSuchElementException\u001b[0m                    Traceback (most recent call last)",
      "Cell \u001b[1;32mIn[17], line 1\u001b[0m\n\u001b[1;32m----> 1\u001b[0m review_link \u001b[38;5;241m=\u001b[39m \u001b[43mdriver\u001b[49m\u001b[38;5;241;43m.\u001b[39;49m\u001b[43mfind_element\u001b[49m\u001b[43m(\u001b[49m\u001b[43mBy\u001b[49m\u001b[38;5;241;43m.\u001b[39;49m\u001b[43mXPATH\u001b[49m\u001b[43m,\u001b[49m\u001b[38;5;124;43m\"\u001b[39;49m\u001b[38;5;124;43m//button[@data-test=\u001b[39;49m\u001b[38;5;124;43m'\u001b[39;49m\u001b[38;5;124;43mtotalReviewLink\u001b[39;49m\u001b[38;5;124;43m'\u001b[39;49m\u001b[38;5;124;43m]\u001b[39;49m\u001b[38;5;124;43m\"\u001b[39;49m\u001b[43m)\u001b[49m\n",
      "File \u001b[1;32mc:\\Users\\pconn\\miniconda3\\lib\\site-packages\\selenium\\webdriver\\remote\\webdriver.py:741\u001b[0m, in \u001b[0;36mWebDriver.find_element\u001b[1;34m(self, by, value)\u001b[0m\n\u001b[0;32m    738\u001b[0m     by \u001b[38;5;241m=\u001b[39m By\u001b[38;5;241m.\u001b[39mCSS_SELECTOR\n\u001b[0;32m    739\u001b[0m     value \u001b[38;5;241m=\u001b[39m \u001b[38;5;124mf\u001b[39m\u001b[38;5;124m'\u001b[39m\u001b[38;5;124m[name=\u001b[39m\u001b[38;5;124m\"\u001b[39m\u001b[38;5;132;01m{\u001b[39;00mvalue\u001b[38;5;132;01m}\u001b[39;00m\u001b[38;5;124m\"\u001b[39m\u001b[38;5;124m]\u001b[39m\u001b[38;5;124m'\u001b[39m\n\u001b[1;32m--> 741\u001b[0m \u001b[38;5;28;01mreturn\u001b[39;00m \u001b[38;5;28;43mself\u001b[39;49m\u001b[38;5;241;43m.\u001b[39;49m\u001b[43mexecute\u001b[49m\u001b[43m(\u001b[49m\u001b[43mCommand\u001b[49m\u001b[38;5;241;43m.\u001b[39;49m\u001b[43mFIND_ELEMENT\u001b[49m\u001b[43m,\u001b[49m\u001b[43m \u001b[49m\u001b[43m{\u001b[49m\u001b[38;5;124;43m\"\u001b[39;49m\u001b[38;5;124;43musing\u001b[39;49m\u001b[38;5;124;43m\"\u001b[39;49m\u001b[43m:\u001b[49m\u001b[43m \u001b[49m\u001b[43mby\u001b[49m\u001b[43m,\u001b[49m\u001b[43m \u001b[49m\u001b[38;5;124;43m\"\u001b[39;49m\u001b[38;5;124;43mvalue\u001b[39;49m\u001b[38;5;124;43m\"\u001b[39;49m\u001b[43m:\u001b[49m\u001b[43m \u001b[49m\u001b[43mvalue\u001b[49m\u001b[43m}\u001b[49m\u001b[43m)\u001b[49m[\u001b[38;5;124m\"\u001b[39m\u001b[38;5;124mvalue\u001b[39m\u001b[38;5;124m\"\u001b[39m]\n",
      "File \u001b[1;32mc:\\Users\\pconn\\miniconda3\\lib\\site-packages\\selenium\\webdriver\\remote\\webdriver.py:347\u001b[0m, in \u001b[0;36mWebDriver.execute\u001b[1;34m(self, driver_command, params)\u001b[0m\n\u001b[0;32m    345\u001b[0m response \u001b[38;5;241m=\u001b[39m \u001b[38;5;28mself\u001b[39m\u001b[38;5;241m.\u001b[39mcommand_executor\u001b[38;5;241m.\u001b[39mexecute(driver_command, params)\n\u001b[0;32m    346\u001b[0m \u001b[38;5;28;01mif\u001b[39;00m response:\n\u001b[1;32m--> 347\u001b[0m     \u001b[38;5;28;43mself\u001b[39;49m\u001b[38;5;241;43m.\u001b[39;49m\u001b[43merror_handler\u001b[49m\u001b[38;5;241;43m.\u001b[39;49m\u001b[43mcheck_response\u001b[49m\u001b[43m(\u001b[49m\u001b[43mresponse\u001b[49m\u001b[43m)\u001b[49m\n\u001b[0;32m    348\u001b[0m     response[\u001b[38;5;124m\"\u001b[39m\u001b[38;5;124mvalue\u001b[39m\u001b[38;5;124m\"\u001b[39m] \u001b[38;5;241m=\u001b[39m \u001b[38;5;28mself\u001b[39m\u001b[38;5;241m.\u001b[39m_unwrap_value(response\u001b[38;5;241m.\u001b[39mget(\u001b[38;5;124m\"\u001b[39m\u001b[38;5;124mvalue\u001b[39m\u001b[38;5;124m\"\u001b[39m, \u001b[38;5;28;01mNone\u001b[39;00m))\n\u001b[0;32m    349\u001b[0m     \u001b[38;5;28;01mreturn\u001b[39;00m response\n",
      "File \u001b[1;32mc:\\Users\\pconn\\miniconda3\\lib\\site-packages\\selenium\\webdriver\\remote\\errorhandler.py:229\u001b[0m, in \u001b[0;36mErrorHandler.check_response\u001b[1;34m(self, response)\u001b[0m\n\u001b[0;32m    227\u001b[0m         alert_text \u001b[38;5;241m=\u001b[39m value[\u001b[38;5;124m\"\u001b[39m\u001b[38;5;124malert\u001b[39m\u001b[38;5;124m\"\u001b[39m]\u001b[38;5;241m.\u001b[39mget(\u001b[38;5;124m\"\u001b[39m\u001b[38;5;124mtext\u001b[39m\u001b[38;5;124m\"\u001b[39m)\n\u001b[0;32m    228\u001b[0m     \u001b[38;5;28;01mraise\u001b[39;00m exception_class(message, screen, stacktrace, alert_text)  \u001b[38;5;66;03m# type: ignore[call-arg]  # mypy is not smart enough here\u001b[39;00m\n\u001b[1;32m--> 229\u001b[0m \u001b[38;5;28;01mraise\u001b[39;00m exception_class(message, screen, stacktrace)\n",
      "\u001b[1;31mNoSuchElementException\u001b[0m: Message: no such element: Unable to locate element: {\"method\":\"xpath\",\"selector\":\"//button[@data-test='totalReviewLink']\"}\n  (Session info: MicrosoftEdge=122.0.2365.52); For documentation on this error, please visit: https://www.selenium.dev/documentation/webdriver/troubleshooting/errors#no-such-element-exception\nStacktrace:\n\tGetHandleVerifier [0x00007FF74DD05D42+55138]\n\tMicrosoft::Applications::Events::ILogConfiguration::operator* [0x00007FF74DC921C2+219010]\n\t(No symbol) [0x00007FF74DAC3407]\n\t(No symbol) [0x00007FF74DB097E3]\n\t(No symbol) [0x00007FF74DB098A6]\n\t(No symbol) [0x00007FF74DB44397]\n\t(No symbol) [0x00007FF74DB28E4F]\n\t(No symbol) [0x00007FF74DAFF017]\n\t(No symbol) [0x00007FF74DB41F59]\n\t(No symbol) [0x00007FF74DB28A73]\n\t(No symbol) [0x00007FF74DAFE53E]\n\t(No symbol) [0x00007FF74DAFD6FC]\n\t(No symbol) [0x00007FF74DAFE0F1]\n\tMicrosoft::Applications::Events::EventProperty::to_string [0x00007FF74DEBED2C+1067068]\n\t(No symbol) [0x00007FF74DB733C6]\n\t(No symbol) [0x00007FF74DC0CFAC]\n\t(No symbol) [0x00007FF74DC04978]\n\tMicrosoft::Applications::Events::EventProperty::to_string [0x00007FF74DEBDC75+1062789]\n\tMicrosoft::Applications::Events::ILogConfiguration::operator* [0x00007FF74DC9BBB1+258417]\n\tMicrosoft::Applications::Events::ILogConfiguration::operator* [0x00007FF74DC96AB4+237684]\n\tMicrosoft::Applications::Events::ILogConfiguration::operator* [0x00007FF74DC96BEF+237999]\n\tMicrosoft::Applications::Events::ILogConfiguration::operator* [0x00007FF74DC8D6A1+199777]\n\tBaseThreadInitThunk [0x00007FF8690F257D+29]\n\tRtlUserThreadStart [0x00007FF86AF8AA58+40]\n"
     ]
    }
   ],
   "source": [
    "review_link = driver.find_element(By.XPATH,\"//button[@data-test='totalReviewLink']\")"
   ]
  },
  {
   "cell_type": "code",
   "execution_count": 18,
   "metadata": {},
   "outputs": [
    {
     "ename": "NameError",
     "evalue": "name 'review_link' is not defined",
     "output_type": "error",
     "traceback": [
      "\u001b[1;31m---------------------------------------------------------------------------\u001b[0m",
      "\u001b[1;31mNameError\u001b[0m                                 Traceback (most recent call last)",
      "Cell \u001b[1;32mIn[18], line 1\u001b[0m\n\u001b[1;32m----> 1\u001b[0m \u001b[43mreview_link\u001b[49m\u001b[38;5;241m.\u001b[39mclick()\n",
      "\u001b[1;31mNameError\u001b[0m: name 'review_link' is not defined"
     ]
    }
   ],
   "source": [
    "review_link.click()"
   ]
  },
  {
   "cell_type": "code",
   "execution_count": 21,
   "metadata": {},
   "outputs": [
    {
     "ename": "InvalidSelectorException",
     "evalue": "Message: invalid selector: Unable to locate an element with the xpath expression //div[@data-test:'rating-value'] because of the following error:\nSyntaxError: Failed to execute 'evaluate' on 'Document': The string '//div[@data-test:'rating-value']' is not a valid XPath expression.\n  (Session info: MicrosoftEdge=122.0.2365.52); For documentation on this error, please visit: https://www.selenium.dev/documentation/webdriver/troubleshooting/errors#invalid-selector-exception\nStacktrace:\n\tGetHandleVerifier [0x00007FF74DD05D42+55138]\n\tMicrosoft::Applications::Events::ILogConfiguration::operator* [0x00007FF74DC921C2+219010]\n\t(No symbol) [0x00007FF74DAC3407]\n\t(No symbol) [0x00007FF74DAC8131]\n\t(No symbol) [0x00007FF74DAC9D67]\n\t(No symbol) [0x00007FF74DAC9E30]\n\t(No symbol) [0x00007FF74DB094AF]\n\t(No symbol) [0x00007FF74DB098A6]\n\t(No symbol) [0x00007FF74DB44397]\n\t(No symbol) [0x00007FF74DB28E4F]\n\t(No symbol) [0x00007FF74DAFF017]\n\t(No symbol) [0x00007FF74DB41F59]\n\t(No symbol) [0x00007FF74DB28A73]\n\t(No symbol) [0x00007FF74DAFE53E]\n\t(No symbol) [0x00007FF74DAFD6FC]\n\t(No symbol) [0x00007FF74DAFE0F1]\n\tMicrosoft::Applications::Events::EventProperty::to_string [0x00007FF74DEBED2C+1067068]\n\t(No symbol) [0x00007FF74DB733C6]\n\t(No symbol) [0x00007FF74DC0CFAC]\n\t(No symbol) [0x00007FF74DC04978]\n\tMicrosoft::Applications::Events::EventProperty::to_string [0x00007FF74DEBDC75+1062789]\n\tMicrosoft::Applications::Events::ILogConfiguration::operator* [0x00007FF74DC9BBB1+258417]\n\tMicrosoft::Applications::Events::ILogConfiguration::operator* [0x00007FF74DC96AB4+237684]\n\tMicrosoft::Applications::Events::ILogConfiguration::operator* [0x00007FF74DC96BEF+237999]\n\tMicrosoft::Applications::Events::ILogConfiguration::operator* [0x00007FF74DC8D6A1+199777]\n\tBaseThreadInitThunk [0x00007FF8690F257D+29]\n\tRtlUserThreadStart [0x00007FF86AF8AA58+40]\n",
     "output_type": "error",
     "traceback": [
      "\u001b[1;31m---------------------------------------------------------------------------\u001b[0m",
      "\u001b[1;31mInvalidSelectorException\u001b[0m                  Traceback (most recent call last)",
      "Cell \u001b[1;32mIn[21], line 1\u001b[0m\n\u001b[1;32m----> 1\u001b[0m star_rating \u001b[38;5;241m=\u001b[39m \u001b[43mdriver\u001b[49m\u001b[38;5;241;43m.\u001b[39;49m\u001b[43mfind_element\u001b[49m\u001b[43m(\u001b[49m\u001b[43mBy\u001b[49m\u001b[38;5;241;43m.\u001b[39;49m\u001b[43mXPATH\u001b[49m\u001b[43m,\u001b[49m\u001b[38;5;124;43m\"\u001b[39;49m\u001b[38;5;124;43m//div[@data-test:\u001b[39;49m\u001b[38;5;124;43m'\u001b[39;49m\u001b[38;5;124;43mrating-value\u001b[39;49m\u001b[38;5;124;43m'\u001b[39;49m\u001b[38;5;124;43m]\u001b[39;49m\u001b[38;5;124;43m\"\u001b[39;49m\u001b[43m)\u001b[49m\n",
      "File \u001b[1;32mc:\\Users\\pconn\\miniconda3\\lib\\site-packages\\selenium\\webdriver\\remote\\webdriver.py:741\u001b[0m, in \u001b[0;36mWebDriver.find_element\u001b[1;34m(self, by, value)\u001b[0m\n\u001b[0;32m    738\u001b[0m     by \u001b[38;5;241m=\u001b[39m By\u001b[38;5;241m.\u001b[39mCSS_SELECTOR\n\u001b[0;32m    739\u001b[0m     value \u001b[38;5;241m=\u001b[39m \u001b[38;5;124mf\u001b[39m\u001b[38;5;124m'\u001b[39m\u001b[38;5;124m[name=\u001b[39m\u001b[38;5;124m\"\u001b[39m\u001b[38;5;132;01m{\u001b[39;00mvalue\u001b[38;5;132;01m}\u001b[39;00m\u001b[38;5;124m\"\u001b[39m\u001b[38;5;124m]\u001b[39m\u001b[38;5;124m'\u001b[39m\n\u001b[1;32m--> 741\u001b[0m \u001b[38;5;28;01mreturn\u001b[39;00m \u001b[38;5;28;43mself\u001b[39;49m\u001b[38;5;241;43m.\u001b[39;49m\u001b[43mexecute\u001b[49m\u001b[43m(\u001b[49m\u001b[43mCommand\u001b[49m\u001b[38;5;241;43m.\u001b[39;49m\u001b[43mFIND_ELEMENT\u001b[49m\u001b[43m,\u001b[49m\u001b[43m \u001b[49m\u001b[43m{\u001b[49m\u001b[38;5;124;43m\"\u001b[39;49m\u001b[38;5;124;43musing\u001b[39;49m\u001b[38;5;124;43m\"\u001b[39;49m\u001b[43m:\u001b[49m\u001b[43m \u001b[49m\u001b[43mby\u001b[49m\u001b[43m,\u001b[49m\u001b[43m \u001b[49m\u001b[38;5;124;43m\"\u001b[39;49m\u001b[38;5;124;43mvalue\u001b[39;49m\u001b[38;5;124;43m\"\u001b[39;49m\u001b[43m:\u001b[49m\u001b[43m \u001b[49m\u001b[43mvalue\u001b[49m\u001b[43m}\u001b[49m\u001b[43m)\u001b[49m[\u001b[38;5;124m\"\u001b[39m\u001b[38;5;124mvalue\u001b[39m\u001b[38;5;124m\"\u001b[39m]\n",
      "File \u001b[1;32mc:\\Users\\pconn\\miniconda3\\lib\\site-packages\\selenium\\webdriver\\remote\\webdriver.py:347\u001b[0m, in \u001b[0;36mWebDriver.execute\u001b[1;34m(self, driver_command, params)\u001b[0m\n\u001b[0;32m    345\u001b[0m response \u001b[38;5;241m=\u001b[39m \u001b[38;5;28mself\u001b[39m\u001b[38;5;241m.\u001b[39mcommand_executor\u001b[38;5;241m.\u001b[39mexecute(driver_command, params)\n\u001b[0;32m    346\u001b[0m \u001b[38;5;28;01mif\u001b[39;00m response:\n\u001b[1;32m--> 347\u001b[0m     \u001b[38;5;28;43mself\u001b[39;49m\u001b[38;5;241;43m.\u001b[39;49m\u001b[43merror_handler\u001b[49m\u001b[38;5;241;43m.\u001b[39;49m\u001b[43mcheck_response\u001b[49m\u001b[43m(\u001b[49m\u001b[43mresponse\u001b[49m\u001b[43m)\u001b[49m\n\u001b[0;32m    348\u001b[0m     response[\u001b[38;5;124m\"\u001b[39m\u001b[38;5;124mvalue\u001b[39m\u001b[38;5;124m\"\u001b[39m] \u001b[38;5;241m=\u001b[39m \u001b[38;5;28mself\u001b[39m\u001b[38;5;241m.\u001b[39m_unwrap_value(response\u001b[38;5;241m.\u001b[39mget(\u001b[38;5;124m\"\u001b[39m\u001b[38;5;124mvalue\u001b[39m\u001b[38;5;124m\"\u001b[39m, \u001b[38;5;28;01mNone\u001b[39;00m))\n\u001b[0;32m    349\u001b[0m     \u001b[38;5;28;01mreturn\u001b[39;00m response\n",
      "File \u001b[1;32mc:\\Users\\pconn\\miniconda3\\lib\\site-packages\\selenium\\webdriver\\remote\\errorhandler.py:229\u001b[0m, in \u001b[0;36mErrorHandler.check_response\u001b[1;34m(self, response)\u001b[0m\n\u001b[0;32m    227\u001b[0m         alert_text \u001b[38;5;241m=\u001b[39m value[\u001b[38;5;124m\"\u001b[39m\u001b[38;5;124malert\u001b[39m\u001b[38;5;124m\"\u001b[39m]\u001b[38;5;241m.\u001b[39mget(\u001b[38;5;124m\"\u001b[39m\u001b[38;5;124mtext\u001b[39m\u001b[38;5;124m\"\u001b[39m)\n\u001b[0;32m    228\u001b[0m     \u001b[38;5;28;01mraise\u001b[39;00m exception_class(message, screen, stacktrace, alert_text)  \u001b[38;5;66;03m# type: ignore[call-arg]  # mypy is not smart enough here\u001b[39;00m\n\u001b[1;32m--> 229\u001b[0m \u001b[38;5;28;01mraise\u001b[39;00m exception_class(message, screen, stacktrace)\n",
      "\u001b[1;31mInvalidSelectorException\u001b[0m: Message: invalid selector: Unable to locate an element with the xpath expression //div[@data-test:'rating-value'] because of the following error:\nSyntaxError: Failed to execute 'evaluate' on 'Document': The string '//div[@data-test:'rating-value']' is not a valid XPath expression.\n  (Session info: MicrosoftEdge=122.0.2365.52); For documentation on this error, please visit: https://www.selenium.dev/documentation/webdriver/troubleshooting/errors#invalid-selector-exception\nStacktrace:\n\tGetHandleVerifier [0x00007FF74DD05D42+55138]\n\tMicrosoft::Applications::Events::ILogConfiguration::operator* [0x00007FF74DC921C2+219010]\n\t(No symbol) [0x00007FF74DAC3407]\n\t(No symbol) [0x00007FF74DAC8131]\n\t(No symbol) [0x00007FF74DAC9D67]\n\t(No symbol) [0x00007FF74DAC9E30]\n\t(No symbol) [0x00007FF74DB094AF]\n\t(No symbol) [0x00007FF74DB098A6]\n\t(No symbol) [0x00007FF74DB44397]\n\t(No symbol) [0x00007FF74DB28E4F]\n\t(No symbol) [0x00007FF74DAFF017]\n\t(No symbol) [0x00007FF74DB41F59]\n\t(No symbol) [0x00007FF74DB28A73]\n\t(No symbol) [0x00007FF74DAFE53E]\n\t(No symbol) [0x00007FF74DAFD6FC]\n\t(No symbol) [0x00007FF74DAFE0F1]\n\tMicrosoft::Applications::Events::EventProperty::to_string [0x00007FF74DEBED2C+1067068]\n\t(No symbol) [0x00007FF74DB733C6]\n\t(No symbol) [0x00007FF74DC0CFAC]\n\t(No symbol) [0x00007FF74DC04978]\n\tMicrosoft::Applications::Events::EventProperty::to_string [0x00007FF74DEBDC75+1062789]\n\tMicrosoft::Applications::Events::ILogConfiguration::operator* [0x00007FF74DC9BBB1+258417]\n\tMicrosoft::Applications::Events::ILogConfiguration::operator* [0x00007FF74DC96AB4+237684]\n\tMicrosoft::Applications::Events::ILogConfiguration::operator* [0x00007FF74DC96BEF+237999]\n\tMicrosoft::Applications::Events::ILogConfiguration::operator* [0x00007FF74DC8D6A1+199777]\n\tBaseThreadInitThunk [0x00007FF8690F257D+29]\n\tRtlUserThreadStart [0x00007FF86AF8AA58+40]\n"
     ]
    }
   ],
   "source": [
    "star_rating = driver.find_element(By.XPATH,\"//div[@data-test:'rating-value']\")"
   ]
  },
  {
   "cell_type": "code",
   "execution_count": 20,
   "metadata": {},
   "outputs": [],
   "source": [
    "driver.get(target_product_urls[0])"
   ]
  },
  {
   "cell_type": "markdown",
   "metadata": {},
   "source": []
  }
 ],
 "metadata": {
  "kernelspec": {
   "display_name": "base",
   "language": "python",
   "name": "python3"
  },
  "language_info": {
   "codemirror_mode": {
    "name": "ipython",
    "version": 3
   },
   "file_extension": ".py",
   "mimetype": "text/x-python",
   "name": "python",
   "nbconvert_exporter": "python",
   "pygments_lexer": "ipython3",
   "version": "3.8.18"
  }
 },
 "nbformat": 4,
 "nbformat_minor": 2
}
