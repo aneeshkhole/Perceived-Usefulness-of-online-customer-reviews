{
 "cells": [
  {
   "cell_type": "code",
   "execution_count": 24,
   "metadata": {},
   "outputs": [],
   "source": [
    "from bs4 import BeautifulSoup as BS\n",
    "import pandas as pd, numpy as np\n",
    "from selenium.webdriver.common.by import By\n",
    "from selenium.webdriver.common.keys import Keys\n",
    "from selenium import webdriver\n",
    "import time, re\n"
   ]
  },
  {
   "cell_type": "code",
   "execution_count": 64,
   "metadata": {},
   "outputs": [],
   "source": [
    "site_scrapers={\n",
    "    'target':{\n",
    "        #specific top-level fields for a product from Target\n",
    "        'product_data':\n",
    "            {'product_title':\"//h1[@data-test='product-title']\",\n",
    "            #'product_cost':\"\",\n",
    "            'product_details':\"//div[@data-test='productDetailTabs-itemDetailsTab']\",\n",
    "            'product_specs':\"//div[@data-test='item-details-specifications']\",\n",
    "            'product_price':\"//span[@class='styles__CurrentPriceFontSize-sc-1mh0sjm-1 kwKAiv']\"\n",
    "            },\n",
    "# details = driver.find_element(by=By.XPATH,value=\"//div[@data-test='@web/site-top-of-funnel/ProductDetailCollapsible-Details']\")\n",
    "# specs = driver.find_element(by=By.XPATH,value=\"//div[@data-test='@web/site-top-of-funnel/ProductDetailCollapsible-Specifications']\")\n",
    "\n",
    "        #target has dynamic content; this allows us to expand the product details and specifications page\n",
    "        'product_expand':{\n",
    "            'product_details':\"//div[@data-test='@web/site-top-of-funnel/ProductDetailCollapsible-Details']\",\n",
    "            'product_specs':\"//div[@data-test='@web/site-top-of-funnel/ProductDetailCollapsible-Specifications']\"\n",
    "        },\n",
    "        #this allows us to navigate within a product page to the reviews and customer feedback\n",
    "        'navigation':{\n",
    "            'feedback':\"//a[@data-test='ratingCountLink']\",\n",
    "            'reviews':\"//button[@data-test='totalReviewLink']\",\n",
    "            'expand':\"//button[@class='styles__StyledBaseButtonInternal-sc-ysboml-0 styles__ButtonSecondary-sc-125aivg-0 brTHah bxLMor']\" \n",
    "        },\n",
    "        #these are the items we extract at the top level (e.g. for all reviews summary)\n",
    "        'review_summary':[\n",
    "            ('total_star_rating',\"//div[@data-test='rating-value']\"),\n",
    "            ('total_star_votes',\"//div[@data-test='rating-count']\")            \n",
    "        ],\n",
    "        #this is the class and style of every block that contains a review\n",
    "        'review_list':\"//div[@class='styles__StyledRow-sc-wmoju4-0 jJAWfL styles__ReviewRow-sc-4u2mi2-1 hmboNn']\",\n",
    "        #this is the data we extract from each review.\n",
    "\n",
    "        'review_data':{\n",
    "            'review_header':('h4',{'data-test':'review-card--title'}),\n",
    "            'reviewer_name':('span',{'data-test':'review-card--username'}),\n",
    "            'review_content':('div',{'data-test':'review-card--text'}),\n",
    "            'review_star_rating':('span',{'class':'utils__ScreenReaderOnly-sc-1b93ups-0 hMtWwx'}),\n",
    "            'review_helpful_votes':('div',{'class':'h-text-sm h-margin-v-tight h-text-grayDark'}),\n",
    "            'verified_purchaser':('span',{'data-test':'review-card--verified-purchaser'})\n",
    "        }\n",
    "    },\n",
    "    'bestbuy':{\n",
    "        'product_data':{\n",
    "            'product_title':\"//h1[@class:'heading-5 v-fw-regular']\",\n",
    "            'product_details':\"//div[@class:'overflow-scroll-wrapper']\",\n",
    "            'product_specs':\"//div[@class:'overflow-scroll-wrapper']\"\n",
    "        },\n",
    "        'product_expand':{\n",
    "            'product_desc':\"//button:[@class=c-button-unstyled features-drawer-btn w-full flex justify-content-between align-items-center py-200]\",\n",
    "            'product_specs':\"//button[@class='c-button c-button-outline c-button-md show-full-specs-btn col-xs-6']\"\n",
    "        },\n",
    "        'navigation':{\n",
    "            'reviews':\"//a[@data-track='See All Customer Reviews']\",\n",
    "            'review_links':\"//ul[@class='pagination ugc body-copy-lg']\", #navigate to other pages.\n",
    "        },\n",
    "        'review_summary':[\n",
    "\n",
    "        ],\n",
    "        'review_data':{\n",
    "            'review_header':('h4',{'class':'c-section-title review-title heading-5 v-fw-medium'}),\n",
    "            'reviewer_name':('div',{'class':'ugc-author v-fw-medium body-copy-lg'}),\n",
    "            'review_content':('div',{'class':'ugc-review-body'}),\n",
    "            'review_star_rating':('p',{'class':'visually-hidden'}),\n",
    "            'review_helpful_votes':('button',{'data-track':'Helpful'}),\n",
    "            'verified_purchaser':('div',{'class':'verified-purchaser-mv-wrapper'}),\n",
    "            'promo_consideration?':('div',{'class':'body-copy-sm pt-50'})\n",
    "        }\n",
    "    },\n",
    "    'amazon':{\n",
    "        'product_data':{\n",
    "\n",
    "        },\n",
    "        'product_expand':{\n",
    "            \n",
    "        },\n",
    "        'navigation':{\n",
    "\n",
    "        },\n",
    "        'review_summary':[\n",
    "            \n",
    "        ],\n",
    "        'review_data':{\n",
    "\n",
    "        }\n",
    "    }\n",
    "}\n",
    "\n",
    "#provide the list of specific products for which we will scrape data\n",
    "# target_product_urls = [\n",
    "# 'https://www.target.com/p/doritos-nacho-cheese-flavored-tortilla-chips-14-5oz/-/A-13319564?ref=tgt_adv_xsp&AFID=google&fndsrc=tgtao&DFA=71700000108139139&CPNG=PLA_Snacks%2BCandy%2BShopping_Local%7CSnacks%2BCandy_Ecomm_Food_Bev&adgroup=SC_Snacks%2BCandy&LID=700000001170770pgs&LNM=PRODUCT_GROUP&network=g&device=c&location=9028882&targetid=pla-566872943420&gad_source=1&gclid=CjwKCAiA_tuuBhAUEiwAvxkgTrVUgEoQxO7gDRv43EXIBS0LKEJIZzesWGUMd9JSJq7OybsxjUxfSxoCYmYQAvD_BwE&gclsrc=aw.ds',\n",
    "# 'https://www.target.com/p/adjustable-storage-desk-black-room-essentials-8482/-/A-54364953'\n",
    "# ]\n",
    "\n",
    "prod_lookups = pd.read_excel('../data/Data Collection.xlsx',sheet_name='productDataCapture')\n",
    "prod_data = pd.read_excel('../data/Data Collection.xlsx',sheet_name='productCollectionList')\n",
    "target_product_urls = list(prod_lookups[(prod_lookups['site']=='target')&~(prod_lookups['URL'].isna())]['URL'])\n",
    "target_product_urls\n",
    "#open a web browser\n",
    "driver = webdriver.Edge()"
   ]
  },
  {
   "cell_type": "code",
   "execution_count": 65,
   "metadata": {},
   "outputs": [
    {
     "name": "stdout",
     "output_type": "stream",
     "text": [
      "driver.find_element(//a[@data-test='ratingCountLink'])\n",
      "driver.find_element(//button[@data-test='totalReviewLink'])\n",
      "driver.find_element(//button[@class='styles__StyledBaseButtonInternal-sc-ysboml-0 styles__ButtonSecondary-sc-125aivg-0 brTHah bxLMor'])\n"
     ]
    }
   ],
   "source": [
    "#lists to collect records/data for each link\n",
    "product_records=[]\n",
    "review_records=[]\n",
    "#iterate through the target list of products\n",
    "for target in target_product_urls:\n",
    "    curr_product = target #doing this to save time after restructuring code\n",
    "    #dictionary to store data on the current product\n",
    "    product_record = {'url':curr_product}\n",
    "    #navigate to the page\n",
    "    driver.get(curr_product)\n",
    "    #wait for page to load\n",
    "    time.sleep(3)\n",
    "    #select dynamic fields and expand them for the product\n",
    "    for k,v in site_scrapers['target']['product_expand'].items():\n",
    "        time.sleep(0.5)\n",
    "        e = None\n",
    "        while e is None:\n",
    "            e = driver.find_element(By.XPATH,value=v)\n",
    "            time.sleep(0.1)\n",
    "        e.click()\n",
    "\n",
    "    #iterate through the fields we want to pull for product data\n",
    "    for k,v in site_scrapers['target']['product_data'].items():\n",
    "        data = driver.find_element(by=By.XPATH,value=v)\n",
    "        product_record[k] = data.text\n",
    "    #print(\"finished top level\")\n",
    "\n",
    "    #navigate to the top of the page to find the button we're looking for\n",
    "    driver.find_element(By.TAG_NAME,value='body').send_keys(Keys.CONTROL+Keys.HOME)\n",
    "\n",
    "    #navigate to the reviews\n",
    "    for k,v in site_scrapers['target']['navigation'].items():\n",
    "        time.sleep(1)\n",
    "        #print(k,v)\n",
    "        #print(\"driver.find_element({})\".format(v))\n",
    "        try:\n",
    "            c = driver.find_element(By.XPATH,value=v)\n",
    "        except: \n",
    "            c = None \n",
    "        if c:\n",
    "            if k != 'expand':\n",
    "                time.sleep(1)\n",
    "                c.click()\n",
    "                #time.sleep(0.5)\n",
    "            else:\n",
    "                #get the summarized review data (x.x/5 stars, number of votes)\n",
    "                for r in site_scrapers['target']['review_summary']:\n",
    "                    product_record[r[0]] = driver.find_element(By.XPATH,value=r[1]).text\n",
    "                #expand out to all reviews - keep expanding until we can't.\n",
    "                while c:\n",
    "                    c.click()\n",
    "                    time.sleep(0.25)\n",
    "                    try:\n",
    "                        c = driver.find_element(By.XPATH,value=v)\n",
    "                    except:\n",
    "                        c = None\n",
    "\n",
    "    #append the product record to the list \n",
    "    product_records.append(product_record)\n",
    "    # #build a list of review records.\n",
    "    # review_records = []\n",
    "\n",
    "    #get the container that has all the reviews in it\n",
    "    #review_elements = driver.find_elements(By.XPATH,\"//div[@class='styles__StyledRow-sc-wmoju4-0 jJAWfL styles__ReviewRow-sc-4u2mi2-1 hmboNn']\")\n",
    "    review_elements = driver.find_elements(By.XPATH,\"//div[@class='styles__StyledDiv-sc-4u2mi2-6 fByBFT h-full-width']\")\n",
    "    for review in review_elements:\n",
    "        #create a dictionary for the current review\n",
    "        review_record = {'url':curr_product}\n",
    "        #beautiful soup seems to work better than selenium for parsing here.\n",
    "        current = BS(review.get_attribute('innerHTML'))\n",
    "        for k1,v1 in site_scrapers['target']['review_data'].items(): #my_map.items():#site_scrapers['target']['review_data']:\n",
    "            if k1 not in ['review_star_rating','review_helpful_votes']:\n",
    "                val = current.find(v1[0],v1[1])\n",
    "                if val:\n",
    "                    review_record[k1] = val.getText()\n",
    "                else:\n",
    "                    review_record[k1] = None\n",
    "                #review_record[k1] = current.find(v1[0],v1[1]).getText()\n",
    "            else:\n",
    "                if k1 == 'review_star_rating':\n",
    "                    #use regex to find the star rating for the review\n",
    "                    review_record[k1] = re.findall('(.) ?(?=out of 5 stars)',review.get_attribute('innerHTML'))[0]\n",
    "                else: \n",
    "                    #use regex to get the number of votes that said this one was useful.\n",
    "                    m = re.findall('([1-9]+) ?(?=guests found)',review.get_attribute('innerHTML'))\n",
    "                    #sometimes reviews aren't voted as useful.  If they're not, mark them as zero.\n",
    "                    if m:\n",
    "                        review_record[k1] = m[0]\n",
    "                    else:\n",
    "                        review_record[k1] = 0\n",
    "        #append the current review to the list of reviews.\n",
    "        review_records.append(dict.copy(review_record))\n",
    "        #print(review_record)\n"
   ]
  },
  {
   "cell_type": "code",
   "execution_count": 50,
   "metadata": {},
   "outputs": [
    {
     "data": {
      "text/plain": [
       "<selenium.webdriver.remote.webelement.WebElement (session=\"3ff2dee6e97d7ad7f19e38db76e0377c\", element=\"f.0AD1D152CB1A07B4BD43F304AC145528.d.B1DC0834F1871A8DD91F3AA8D04964C5.e.2093\")>"
      ]
     },
     "execution_count": 50,
     "metadata": {},
     "output_type": "execute_result"
    }
   ],
   "source": [
    "driver.find_element(By.XPATH,\"//span[@class='styles__CurrentPriceFontSize-sc-1mh0sjm-1 kwKAiv']\")"
   ]
  },
  {
   "cell_type": "code",
   "execution_count": 58,
   "metadata": {},
   "outputs": [
    {
     "data": {
      "text/plain": [
       "<selenium.webdriver.remote.webelement.WebElement (session=\"fb12bbb9183403ccc3769875dfe5b1bb\", element=\"f.78003BBDD4CC719F9D64DF64262AE894.d.8C4BFBFB19BA75C4ECBC41C79982DE43.e.13815\")>"
      ]
     },
     "execution_count": 58,
     "metadata": {},
     "output_type": "execute_result"
    }
   ],
   "source": [
    "review_elements = driver.find_elements(By.XPATH,\"//div[@class='styles__StyledDiv-sc-4u2mi2-6 fByBFT h-full-width']\")\n",
    "review_elements[3]"
   ]
  },
  {
   "cell_type": "code",
   "execution_count": 63,
   "metadata": {},
   "outputs": [
    {
     "name": "stdout",
     "output_type": "stream",
     "text": [
      "not\n"
     ]
    }
   ],
   "source": [
    "x = BS(review_elements[4].get_attribute('innerHTML')).find('span',{'data-test':'review-card--verified-purchaser'})\n",
    "if x:\n",
    "    print(\"verified\")\n",
    "else:\n",
    "    print(\"not\")"
   ]
  },
  {
   "cell_type": "code",
   "execution_count": 53,
   "metadata": {},
   "outputs": [],
   "source": [
    "products = pd.DataFrame(product_records)\n",
    "reviews = pd.DataFrame(review_records)\n",
    "products.to_csv('../data/target_products.csv',index=False)\n",
    "reviews.to_csv('../data/target_reviews.csv',index=False)"
   ]
  },
  {
   "cell_type": "code",
   "execution_count": 39,
   "metadata": {},
   "outputs": [
    {
     "data": {
      "text/html": [
       "<div>\n",
       "<style scoped>\n",
       "    .dataframe tbody tr th:only-of-type {\n",
       "        vertical-align: middle;\n",
       "    }\n",
       "\n",
       "    .dataframe tbody tr th {\n",
       "        vertical-align: top;\n",
       "    }\n",
       "\n",
       "    .dataframe thead th {\n",
       "        text-align: right;\n",
       "    }\n",
       "</style>\n",
       "<table border=\"1\" class=\"dataframe\">\n",
       "  <thead>\n",
       "    <tr style=\"text-align: right;\">\n",
       "      <th></th>\n",
       "      <th>url</th>\n",
       "      <th>product_title</th>\n",
       "      <th>product_details</th>\n",
       "      <th>product_specs</th>\n",
       "      <th>total_star_rating</th>\n",
       "      <th>total_star_votes</th>\n",
       "    </tr>\n",
       "  </thead>\n",
       "  <tbody>\n",
       "    <tr>\n",
       "      <th>0</th>\n",
       "      <td>https://www.target.com/p/apple-iphone-14/-/A-8...</td>\n",
       "      <td>Apple iPhone 14</td>\n",
       "      <td>Highlights\\n6.1-inch Super Retina XDR display¹...</td>\n",
       "      <td>Dimensions (Overall): 5.78 Inches (H) x 2.82 I...</td>\n",
       "      <td>4.4</td>\n",
       "      <td>447 star ratings</td>\n",
       "    </tr>\n",
       "    <tr>\n",
       "      <th>1</th>\n",
       "      <td>https://www.target.com/p/samsung-galaxy-s22-ul...</td>\n",
       "      <td>Samsung Galaxy S22 Ultra 5G Unlocked (128GB) S...</td>\n",
       "      <td>Highlights\\n8K video - the highest resolution ...</td>\n",
       "      <td>Dimensions (Overall): 6.43 Inches (H) x 3.06 I...</td>\n",
       "      <td>4.6</td>\n",
       "      <td>8016 star ratings</td>\n",
       "    </tr>\n",
       "    <tr>\n",
       "      <th>2</th>\n",
       "      <td>https://www.target.com/p/hp-deskjet-2755e-wire...</td>\n",
       "      <td>HP DeskJet 2755e Wireless All-In-One Color Pri...</td>\n",
       "      <td>Highlights\\nBest for home printing\\nAll-in-one...</td>\n",
       "      <td>Dimensions (Overall): 6.06 Inches (H) x 16.7 I...</td>\n",
       "      <td>3.8</td>\n",
       "      <td>1642 star ratings</td>\n",
       "    </tr>\n",
       "    <tr>\n",
       "      <th>3</th>\n",
       "      <td>https://www.target.com/p/jbl-charge-5-portable...</td>\n",
       "      <td>JBL Charge 5 Portable Bluetooth Waterproof Spe...</td>\n",
       "      <td>Highlights\\nTarget Certified Refurbished speak...</td>\n",
       "      <td>Dimensions (Overall): 3.76 Inches (H) x 3.67 I...</td>\n",
       "      <td>NaN</td>\n",
       "      <td>NaN</td>\n",
       "    </tr>\n",
       "    <tr>\n",
       "      <th>4</th>\n",
       "      <td>https://www.target.com/p/microsoft-365-persona...</td>\n",
       "      <td>Microsoft 365 Personal 12-Month Subscription (...</td>\n",
       "      <td>Highlights\\nFor one person\\nUse on Windows PCs...</td>\n",
       "      <td>Video Game Genre: Home/Office Software\\nFormat...</td>\n",
       "      <td>3.0</td>\n",
       "      <td>26 star ratings</td>\n",
       "    </tr>\n",
       "  </tbody>\n",
       "</table>\n",
       "</div>"
      ],
      "text/plain": [
       "                                                 url  \\\n",
       "0  https://www.target.com/p/apple-iphone-14/-/A-8...   \n",
       "1  https://www.target.com/p/samsung-galaxy-s22-ul...   \n",
       "2  https://www.target.com/p/hp-deskjet-2755e-wire...   \n",
       "3  https://www.target.com/p/jbl-charge-5-portable...   \n",
       "4  https://www.target.com/p/microsoft-365-persona...   \n",
       "\n",
       "                                       product_title  \\\n",
       "0                                    Apple iPhone 14   \n",
       "1  Samsung Galaxy S22 Ultra 5G Unlocked (128GB) S...   \n",
       "2  HP DeskJet 2755e Wireless All-In-One Color Pri...   \n",
       "3  JBL Charge 5 Portable Bluetooth Waterproof Spe...   \n",
       "4  Microsoft 365 Personal 12-Month Subscription (...   \n",
       "\n",
       "                                     product_details  \\\n",
       "0  Highlights\\n6.1-inch Super Retina XDR display¹...   \n",
       "1  Highlights\\n8K video - the highest resolution ...   \n",
       "2  Highlights\\nBest for home printing\\nAll-in-one...   \n",
       "3  Highlights\\nTarget Certified Refurbished speak...   \n",
       "4  Highlights\\nFor one person\\nUse on Windows PCs...   \n",
       "\n",
       "                                       product_specs total_star_rating  \\\n",
       "0  Dimensions (Overall): 5.78 Inches (H) x 2.82 I...               4.4   \n",
       "1  Dimensions (Overall): 6.43 Inches (H) x 3.06 I...               4.6   \n",
       "2  Dimensions (Overall): 6.06 Inches (H) x 16.7 I...               3.8   \n",
       "3  Dimensions (Overall): 3.76 Inches (H) x 3.67 I...               NaN   \n",
       "4  Video Game Genre: Home/Office Software\\nFormat...               3.0   \n",
       "\n",
       "    total_star_votes  \n",
       "0   447 star ratings  \n",
       "1  8016 star ratings  \n",
       "2  1642 star ratings  \n",
       "3                NaN  \n",
       "4    26 star ratings  "
      ]
     },
     "execution_count": 39,
     "metadata": {},
     "output_type": "execute_result"
    }
   ],
   "source": [
    "products.head()"
   ]
  },
  {
   "cell_type": "code",
   "execution_count": 40,
   "metadata": {},
   "outputs": [
    {
     "data": {
      "text/plain": [
       "3416"
      ]
     },
     "execution_count": 40,
     "metadata": {},
     "output_type": "execute_result"
    }
   ],
   "source": [
    "len(review_records)"
   ]
  },
  {
   "cell_type": "code",
   "execution_count": 41,
   "metadata": {},
   "outputs": [
    {
     "data": {
      "text/plain": [
       "3416"
      ]
     },
     "execution_count": 41,
     "metadata": {},
     "output_type": "execute_result"
    }
   ],
   "source": [
    "len(reviews)\n",
    "#reviews = pd.read_csv('../data/target_reviews.csv')"
   ]
  },
  {
   "cell_type": "code",
   "execution_count": null,
   "metadata": {},
   "outputs": [],
   "source": []
  }
 ],
 "metadata": {
  "kernelspec": {
   "display_name": "base",
   "language": "python",
   "name": "python3"
  },
  "language_info": {
   "codemirror_mode": {
    "name": "ipython",
    "version": 3
   },
   "file_extension": ".py",
   "mimetype": "text/x-python",
   "name": "python",
   "nbconvert_exporter": "python",
   "pygments_lexer": "ipython3",
   "version": "3.8.18"
  }
 },
 "nbformat": 4,
 "nbformat_minor": 2
}
