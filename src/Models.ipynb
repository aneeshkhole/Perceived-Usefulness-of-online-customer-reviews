{
 "cells": [
  {
   "cell_type": "code",
   "execution_count": 216,
   "metadata": {},
   "outputs": [],
   "source": [
    "import pandas as pd\n",
    "from sklearn.preprocessing import MinMaxScaler\n",
    "from sklearn.tree import DecisionTreeRegressor\n",
    "from sklearn.ensemble import RandomForestRegressor, GradientBoostingRegressor\n",
    "from sklearn.linear_model import LinearRegression\n",
    "\n",
    "from sklearn.model_selection import train_test_split\n",
    "from sklearn.metrics import mean_squared_error\n",
    "from sklearn.metrics import accuracy_score\n",
    "from sklearn.metrics import r2_score\n"
   ]
  },
  {
   "cell_type": "code",
   "execution_count": 217,
   "metadata": {},
   "outputs": [
    {
     "name": "stderr",
     "output_type": "stream",
     "text": [
      "C:\\Users\\khole\\AppData\\Local\\Temp\\ipykernel_11080\\2627181065.py:1: DtypeWarning: Columns (11) have mixed types. Specify dtype option on import or set low_memory=False.\n",
      "  review_data = pd.read_csv('../data/all_reviews_without_unicode.csv')\n"
     ]
    }
   ],
   "source": [
    "review_data = pd.read_csv('../data/all_reviews_without_unicode.csv')"
   ]
  },
  {
   "cell_type": "code",
   "execution_count": 218,
   "metadata": {},
   "outputs": [
    {
     "data": {
      "text/plain": [
       "productID                 int64\n",
       "prodSiteID               object\n",
       "review_header            object\n",
       "reviewer_name            object\n",
       "review_content           object\n",
       "review_star_rating        int64\n",
       "review_helpful_votes      int64\n",
       "verified_purchase          bool\n",
       "review_subjectivity     float64\n",
       "review_polarity         float64\n",
       "review_length           float64\n",
       "url                      object\n",
       "review_lang              object\n",
       "site                     object\n",
       "site_outlier              int64\n",
       "site_outlier_en           int64\n",
       "global_outlier            int64\n",
       "global_outlier_en         int64\n",
       "dtype: object"
      ]
     },
     "execution_count": 218,
     "metadata": {},
     "output_type": "execute_result"
    }
   ],
   "source": [
    "review_data.dtypes"
   ]
  },
  {
   "cell_type": "code",
   "execution_count": 219,
   "metadata": {},
   "outputs": [],
   "source": [
    "scaler = MinMaxScaler()\n",
    "review_data['helpful_votes_scaled'] = scaler.fit_transform(review_data[['review_helpful_votes']])\n",
    "\n",
    "for i in review_data['verified_purchase']:\n",
    "\n",
    "    if i == True:\n",
    "        review_data['verified_purchase_num'] = 1\n",
    "    else:\n",
    "        review_data['verified_purchase_num'] = 0\n"
   ]
  },
  {
   "cell_type": "code",
   "execution_count": 220,
   "metadata": {},
   "outputs": [
    {
     "data": {
      "text/plain": [
       "(48081, 20)"
      ]
     },
     "execution_count": 220,
     "metadata": {},
     "output_type": "execute_result"
    }
   ],
   "source": [
    "review_data.shape"
   ]
  },
  {
   "cell_type": "markdown",
   "metadata": {},
   "source": [
    "### Approach 1: Splitting the dataset into reviews of common products on all sites for training and testing on review of products unique to a particular site"
   ]
  },
  {
   "cell_type": "code",
   "execution_count": 221,
   "metadata": {},
   "outputs": [],
   "source": [
    "BB = review_data[review_data['site']=='BestBuy']\n",
    "AMZ = review_data[review_data['site']=='Amazon']\n",
    "TGT = review_data[review_data['site']=='Target']"
   ]
  },
  {
   "cell_type": "code",
   "execution_count": 222,
   "metadata": {},
   "outputs": [],
   "source": [
    "BB = BB['productID'].unique().tolist()\n",
    "AMZ = AMZ['productID'].unique().tolist()\n",
    "TGT = TGT['productID'].unique().tolist()"
   ]
  },
  {
   "cell_type": "code",
   "execution_count": 223,
   "metadata": {},
   "outputs": [],
   "source": [
    "all = set(BB).union(set(AMZ),set(TGT))"
   ]
  },
  {
   "cell_type": "code",
   "execution_count": 224,
   "metadata": {},
   "outputs": [],
   "source": [
    "common = set(BB).intersection(set(AMZ), set(TGT))\n",
    "lst_common = sorted(list(common))\n",
    "lst_uncommon = sorted(list(all - common))"
   ]
  },
  {
   "cell_type": "code",
   "execution_count": 225,
   "metadata": {},
   "outputs": [
    {
     "data": {
      "text/plain": [
       "[1, 2, 3, 5, 6, 8, 9, 11, 12, 13, 14, 15]"
      ]
     },
     "execution_count": 225,
     "metadata": {},
     "output_type": "execute_result"
    }
   ],
   "source": [
    "lst_common"
   ]
  },
  {
   "cell_type": "code",
   "execution_count": 226,
   "metadata": {},
   "outputs": [
    {
     "data": {
      "text/plain": [
       "[4, 7, 10, 16, 17, 18, 19, 20, 21, 22, 23, 24, 40, 41]"
      ]
     },
     "execution_count": 226,
     "metadata": {},
     "output_type": "execute_result"
    }
   ],
   "source": [
    "lst_uncommon"
   ]
  },
  {
   "cell_type": "code",
   "execution_count": 227,
   "metadata": {},
   "outputs": [],
   "source": [
    "df_train_lst = []\n",
    "for i in lst_common:\n",
    "    filtered_df_train = review_data[review_data['productID'] == i]\n",
    "    df_train_lst.append(filtered_df_train)\n",
    "\n",
    "df_train = pd.concat(df_train_lst)\n",
    "df_train = df_train[['review_star_rating','verified_purchase_num','review_subjectivity','review_polarity','review_length', 'helpful_votes_scaled']]\n",
    "df_train.dropna(inplace=True)"
   ]
  },
  {
   "cell_type": "code",
   "execution_count": 228,
   "metadata": {},
   "outputs": [
    {
     "data": {
      "text/html": [
       "<div>\n",
       "<style scoped>\n",
       "    .dataframe tbody tr th:only-of-type {\n",
       "        vertical-align: middle;\n",
       "    }\n",
       "\n",
       "    .dataframe tbody tr th {\n",
       "        vertical-align: top;\n",
       "    }\n",
       "\n",
       "    .dataframe thead th {\n",
       "        text-align: right;\n",
       "    }\n",
       "</style>\n",
       "<table border=\"1\" class=\"dataframe\">\n",
       "  <thead>\n",
       "    <tr style=\"text-align: right;\">\n",
       "      <th></th>\n",
       "      <th>review_star_rating</th>\n",
       "      <th>verified_purchase_num</th>\n",
       "      <th>review_subjectivity</th>\n",
       "      <th>review_polarity</th>\n",
       "      <th>review_length</th>\n",
       "      <th>helpful_votes_scaled</th>\n",
       "    </tr>\n",
       "  </thead>\n",
       "  <tbody>\n",
       "    <tr>\n",
       "      <th>0</th>\n",
       "      <td>5</td>\n",
       "      <td>1</td>\n",
       "      <td>0.588232</td>\n",
       "      <td>0.258266</td>\n",
       "      <td>49.0</td>\n",
       "      <td>0.00157</td>\n",
       "    </tr>\n",
       "    <tr>\n",
       "      <th>1</th>\n",
       "      <td>5</td>\n",
       "      <td>1</td>\n",
       "      <td>0.430909</td>\n",
       "      <td>0.447273</td>\n",
       "      <td>24.0</td>\n",
       "      <td>0.00314</td>\n",
       "    </tr>\n",
       "    <tr>\n",
       "      <th>2</th>\n",
       "      <td>5</td>\n",
       "      <td>1</td>\n",
       "      <td>0.554959</td>\n",
       "      <td>0.394215</td>\n",
       "      <td>66.0</td>\n",
       "      <td>0.00314</td>\n",
       "    </tr>\n",
       "    <tr>\n",
       "      <th>3</th>\n",
       "      <td>5</td>\n",
       "      <td>1</td>\n",
       "      <td>1.000000</td>\n",
       "      <td>1.000000</td>\n",
       "      <td>14.0</td>\n",
       "      <td>0.00000</td>\n",
       "    </tr>\n",
       "    <tr>\n",
       "      <th>4</th>\n",
       "      <td>5</td>\n",
       "      <td>1</td>\n",
       "      <td>0.636364</td>\n",
       "      <td>0.424242</td>\n",
       "      <td>31.0</td>\n",
       "      <td>0.00000</td>\n",
       "    </tr>\n",
       "  </tbody>\n",
       "</table>\n",
       "</div>"
      ],
      "text/plain": [
       "   review_star_rating  verified_purchase_num  review_subjectivity  \\\n",
       "0                   5                      1             0.588232   \n",
       "1                   5                      1             0.430909   \n",
       "2                   5                      1             0.554959   \n",
       "3                   5                      1             1.000000   \n",
       "4                   5                      1             0.636364   \n",
       "\n",
       "   review_polarity  review_length  helpful_votes_scaled  \n",
       "0         0.258266           49.0               0.00157  \n",
       "1         0.447273           24.0               0.00314  \n",
       "2         0.394215           66.0               0.00314  \n",
       "3         1.000000           14.0               0.00000  \n",
       "4         0.424242           31.0               0.00000  "
      ]
     },
     "execution_count": 228,
     "metadata": {},
     "output_type": "execute_result"
    }
   ],
   "source": [
    "df_train.head()"
   ]
  },
  {
   "cell_type": "code",
   "execution_count": 229,
   "metadata": {},
   "outputs": [
    {
     "data": {
      "text/plain": [
       "(35191, 6)"
      ]
     },
     "execution_count": 229,
     "metadata": {},
     "output_type": "execute_result"
    }
   ],
   "source": [
    "df_train.shape"
   ]
  },
  {
   "cell_type": "code",
   "execution_count": 230,
   "metadata": {},
   "outputs": [],
   "source": [
    "df_test_lst = []\n",
    "for i in lst_uncommon:\n",
    "    filtered_df_test = review_data[review_data['productID'] == i]\n",
    "    df_test_lst.append(filtered_df_test)\n",
    "\n",
    "df_test = pd.concat(df_test_lst)\n",
    "df_test = df_test[['review_star_rating','verified_purchase_num','review_subjectivity','review_polarity','review_length', 'helpful_votes_scaled']]\n",
    "df_test.dropna(inplace=True)"
   ]
  },
  {
   "cell_type": "code",
   "execution_count": 231,
   "metadata": {},
   "outputs": [
    {
     "data": {
      "text/plain": [
       "(12888, 6)"
      ]
     },
     "execution_count": 231,
     "metadata": {},
     "output_type": "execute_result"
    }
   ],
   "source": [
    "df_test.shape"
   ]
  },
  {
   "cell_type": "code",
   "execution_count": 232,
   "metadata": {},
   "outputs": [],
   "source": [
    "X_train = df_train[['review_star_rating','verified_purchase_num','review_subjectivity','review_polarity','review_length']]\n",
    "y_train = df_train[['helpful_votes_scaled']]\n",
    "\n",
    "X_test = df_test[['review_star_rating','verified_purchase_num','review_subjectivity','review_polarity','review_length']]\n",
    "y_test = df_test[['helpful_votes_scaled']]\n"
   ]
  },
  {
   "cell_type": "code",
   "execution_count": 233,
   "metadata": {},
   "outputs": [
    {
     "name": "stderr",
     "output_type": "stream",
     "text": [
      "c:\\Users\\khole\\AppData\\Local\\Programs\\Python\\Python311\\Lib\\site-packages\\sklearn\\ensemble\\_gb.py:437: DataConversionWarning: A column-vector y was passed when a 1d array was expected. Please change the shape of y to (n_samples, ), for example using ravel().\n",
      "  y = column_or_1d(y, warn=True)\n"
     ]
    },
    {
     "name": "stdout",
     "output_type": "stream",
     "text": [
      "Mean Squared Error: 7.461742140395353e-05\n",
      "R2 score is: -2.295161753798666\n"
     ]
    }
   ],
   "source": [
    "# Step 4: Model Selection and Training\n",
    "model = GradientBoostingRegressor()\n",
    "model.fit(X_train, y_train)\n",
    "\n",
    "# Step 6: Evaluate the Model\n",
    "y_pred = model.predict(X_test)\n",
    "mse = mean_squared_error(y_test, y_pred)\n",
    "print(\"Mean Squared Error:\", mse)\n",
    "r2 = r2_score(y_test, y_pred)\n",
    "print(\"R2 score is:\", r2)"
   ]
  },
  {
   "cell_type": "markdown",
   "metadata": {},
   "source": [
    "### Aprroach 2: Using the whole dataset, just shuffling the rows"
   ]
  },
  {
   "cell_type": "code",
   "execution_count": 245,
   "metadata": {},
   "outputs": [
    {
     "name": "stderr",
     "output_type": "stream",
     "text": [
      "C:\\Users\\khole\\AppData\\Local\\Temp\\ipykernel_11080\\401404742.py:2: SettingWithCopyWarning: \n",
      "A value is trying to be set on a copy of a slice from a DataFrame\n",
      "\n",
      "See the caveats in the documentation: https://pandas.pydata.org/pandas-docs/stable/user_guide/indexing.html#returning-a-view-versus-a-copy\n",
      "  review_data_reduced.dropna(inplace=True)\n"
     ]
    },
    {
     "data": {
      "text/plain": [
       "(48079, 6)"
      ]
     },
     "execution_count": 245,
     "metadata": {},
     "output_type": "execute_result"
    }
   ],
   "source": [
    "review_data_reduced = review_data[['review_star_rating','verified_purchase_num','review_subjectivity','review_polarity','review_length', 'helpful_votes_scaled']]\n",
    "review_data_reduced.dropna(inplace=True)\n",
    "review_data_reduced.sample(frac=1)\n",
    "review_data_reduced.shape"
   ]
  },
  {
   "cell_type": "code",
   "execution_count": 248,
   "metadata": {},
   "outputs": [],
   "source": [
    "X, y= review_data_reduced[['review_star_rating','verified_purchase_num','review_subjectivity','review_polarity','review_length']], review_data_reduced[['helpful_votes_scaled']]\n",
    "\n",
    "X_train, X_test, y_train, y_test = train_test_split(X, y, test_size=0.2, random_state=42)"
   ]
  },
  {
   "cell_type": "code",
   "execution_count": 249,
   "metadata": {},
   "outputs": [
    {
     "name": "stderr",
     "output_type": "stream",
     "text": [
      "c:\\Users\\khole\\AppData\\Local\\Programs\\Python\\Python311\\Lib\\site-packages\\sklearn\\ensemble\\_gb.py:437: DataConversionWarning: A column-vector y was passed when a 1d array was expected. Please change the shape of y to (n_samples, ), for example using ravel().\n",
      "  y = column_or_1d(y, warn=True)\n"
     ]
    },
    {
     "name": "stdout",
     "output_type": "stream",
     "text": [
      "Mean Squared Error: 0.00013888365030410312\n",
      "R2 score is: -2.0641634935510216\n"
     ]
    }
   ],
   "source": [
    "model = GradientBoostingRegressor()\n",
    "model.fit(X_train, y_train)\n",
    "\n",
    "# Step 6: Evaluate the Model\n",
    "y_pred = model.predict(X_test)\n",
    "mse = mean_squared_error(y_test, y_pred)\n",
    "print(\"Mean Squared Error:\", mse)\n",
    "r2 = r2_score(y_test, y_pred)\n",
    "print(\"R2 score is:\", r2)"
   ]
  },
  {
   "cell_type": "code",
   "execution_count": null,
   "metadata": {},
   "outputs": [],
   "source": []
  }
 ],
 "metadata": {
  "kernelspec": {
   "display_name": "Python 3",
   "language": "python",
   "name": "python3"
  },
  "language_info": {
   "codemirror_mode": {
    "name": "ipython",
    "version": 3
   },
   "file_extension": ".py",
   "mimetype": "text/x-python",
   "name": "python",
   "nbconvert_exporter": "python",
   "pygments_lexer": "ipython3",
   "version": "3.11.4"
  }
 },
 "nbformat": 4,
 "nbformat_minor": 2
}
