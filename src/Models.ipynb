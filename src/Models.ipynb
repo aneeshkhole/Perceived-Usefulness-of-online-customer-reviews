{
 "cells": [
  {
   "cell_type": "code",
   "execution_count": 1,
   "metadata": {},
   "outputs": [],
   "source": [
    "import pandas as pd\n",
    "from sklearn.preprocessing import MinMaxScaler\n",
    "from sklearn.tree import DecisionTreeRegressor\n",
    "from sklearn.ensemble import RandomForestRegressor, GradientBoostingRegressor\n",
    "from sklearn.linear_model import LinearRegression\n",
    "\n",
    "from sklearn.model_selection import train_test_split\n",
    "from sklearn.metrics import mean_squared_error\n",
    "from sklearn.metrics import accuracy_score\n",
    "from sklearn.metrics import r2_score\n"
   ]
  },
  {
   "cell_type": "code",
   "execution_count": 2,
   "metadata": {},
   "outputs": [
    {
     "name": "stderr",
     "output_type": "stream",
     "text": [
      "C:\\Users\\khole\\AppData\\Local\\Temp\\ipykernel_15744\\2627181065.py:1: DtypeWarning: Columns (11) have mixed types. Specify dtype option on import or set low_memory=False.\n",
      "  review_data = pd.read_csv('../data/all_reviews_without_unicode.csv')\n"
     ]
    }
   ],
   "source": [
    "review_data = pd.read_csv('../data/all_reviews_without_unicode.csv')"
   ]
  },
  {
   "cell_type": "code",
   "execution_count": 32,
   "metadata": {},
   "outputs": [
    {
     "data": {
      "text/html": [
       "<div>\n",
       "<style scoped>\n",
       "    .dataframe tbody tr th:only-of-type {\n",
       "        vertical-align: middle;\n",
       "    }\n",
       "\n",
       "    .dataframe tbody tr th {\n",
       "        vertical-align: top;\n",
       "    }\n",
       "\n",
       "    .dataframe thead th {\n",
       "        text-align: right;\n",
       "    }\n",
       "</style>\n",
       "<table border=\"1\" class=\"dataframe\">\n",
       "  <thead>\n",
       "    <tr style=\"text-align: right;\">\n",
       "      <th></th>\n",
       "      <th>productID</th>\n",
       "      <th>prodSiteID</th>\n",
       "      <th>review_header</th>\n",
       "      <th>reviewer_name</th>\n",
       "      <th>review_content</th>\n",
       "      <th>review_star_rating</th>\n",
       "      <th>review_helpful_votes</th>\n",
       "      <th>verified_purchase</th>\n",
       "      <th>review_subjectivity</th>\n",
       "      <th>review_polarity</th>\n",
       "      <th>...</th>\n",
       "      <th>url</th>\n",
       "      <th>review_lang</th>\n",
       "      <th>site</th>\n",
       "      <th>site_outlier</th>\n",
       "      <th>site_outlier_en</th>\n",
       "      <th>global_outlier</th>\n",
       "      <th>global_outlier_en</th>\n",
       "      <th>helpful_votes_scaled</th>\n",
       "      <th>review_length_scaled</th>\n",
       "      <th>verified_purchase_num</th>\n",
       "    </tr>\n",
       "  </thead>\n",
       "  <tbody>\n",
       "    <tr>\n",
       "      <th>0</th>\n",
       "      <td>1</td>\n",
       "      <td>Amazon1</td>\n",
       "      <td>It is renewed but looked like new</td>\n",
       "      <td>Andre</td>\n",
       "      <td>It was packaged very well, Amazon packaging, n...</td>\n",
       "      <td>5</td>\n",
       "      <td>1</td>\n",
       "      <td>True</td>\n",
       "      <td>0.588232</td>\n",
       "      <td>0.258266</td>\n",
       "      <td>...</td>\n",
       "      <td>NaN</td>\n",
       "      <td>en</td>\n",
       "      <td>Amazon</td>\n",
       "      <td>0</td>\n",
       "      <td>0</td>\n",
       "      <td>0</td>\n",
       "      <td>0</td>\n",
       "      <td>0.00157</td>\n",
       "      <td>0.041273</td>\n",
       "      <td>1</td>\n",
       "    </tr>\n",
       "    <tr>\n",
       "      <th>1</th>\n",
       "      <td>1</td>\n",
       "      <td>Amazon1</td>\n",
       "      <td>Worth it</td>\n",
       "      <td>Alice</td>\n",
       "      <td>The phone came in perfect conditions, without ...</td>\n",
       "      <td>5</td>\n",
       "      <td>2</td>\n",
       "      <td>True</td>\n",
       "      <td>0.430909</td>\n",
       "      <td>0.447273</td>\n",
       "      <td>...</td>\n",
       "      <td>NaN</td>\n",
       "      <td>en</td>\n",
       "      <td>Amazon</td>\n",
       "      <td>0</td>\n",
       "      <td>0</td>\n",
       "      <td>0</td>\n",
       "      <td>0</td>\n",
       "      <td>0.00314</td>\n",
       "      <td>0.019776</td>\n",
       "      <td>1</td>\n",
       "    </tr>\n",
       "    <tr>\n",
       "      <th>2</th>\n",
       "      <td>1</td>\n",
       "      <td>Amazon1</td>\n",
       "      <td>Amazon Warehouse for the Win!</td>\n",
       "      <td>Mrs. K</td>\n",
       "      <td>I got a great deal on this at Amazon Warehouse...</td>\n",
       "      <td>5</td>\n",
       "      <td>2</td>\n",
       "      <td>True</td>\n",
       "      <td>0.554959</td>\n",
       "      <td>0.394215</td>\n",
       "      <td>...</td>\n",
       "      <td>NaN</td>\n",
       "      <td>en</td>\n",
       "      <td>Amazon</td>\n",
       "      <td>0</td>\n",
       "      <td>0</td>\n",
       "      <td>0</td>\n",
       "      <td>0</td>\n",
       "      <td>0.00314</td>\n",
       "      <td>0.055890</td>\n",
       "      <td>1</td>\n",
       "    </tr>\n",
       "    <tr>\n",
       "      <th>3</th>\n",
       "      <td>1</td>\n",
       "      <td>Amazon1</td>\n",
       "      <td>Awesome</td>\n",
       "      <td>David Chaves Rojas</td>\n",
       "      <td>Got my phone, 10/10. No scratches, still have ...</td>\n",
       "      <td>5</td>\n",
       "      <td>0</td>\n",
       "      <td>True</td>\n",
       "      <td>1.000000</td>\n",
       "      <td>1.000000</td>\n",
       "      <td>...</td>\n",
       "      <td>NaN</td>\n",
       "      <td>en</td>\n",
       "      <td>Amazon</td>\n",
       "      <td>2</td>\n",
       "      <td>2</td>\n",
       "      <td>0</td>\n",
       "      <td>0</td>\n",
       "      <td>0.00000</td>\n",
       "      <td>0.011178</td>\n",
       "      <td>1</td>\n",
       "    </tr>\n",
       "    <tr>\n",
       "      <th>4</th>\n",
       "      <td>1</td>\n",
       "      <td>Amazon1</td>\n",
       "      <td>Like new iPhone 14</td>\n",
       "      <td>Rick</td>\n",
       "      <td>The iPhone 14 came with a battery that had 100...</td>\n",
       "      <td>5</td>\n",
       "      <td>0</td>\n",
       "      <td>True</td>\n",
       "      <td>0.636364</td>\n",
       "      <td>0.424242</td>\n",
       "      <td>...</td>\n",
       "      <td>NaN</td>\n",
       "      <td>en</td>\n",
       "      <td>Amazon</td>\n",
       "      <td>0</td>\n",
       "      <td>0</td>\n",
       "      <td>0</td>\n",
       "      <td>0</td>\n",
       "      <td>0.00000</td>\n",
       "      <td>0.025795</td>\n",
       "      <td>1</td>\n",
       "    </tr>\n",
       "  </tbody>\n",
       "</table>\n",
       "<p>5 rows × 21 columns</p>\n",
       "</div>"
      ],
      "text/plain": [
       "   productID prodSiteID                      review_header  \\\n",
       "0          1    Amazon1  It is renewed but looked like new   \n",
       "1          1    Amazon1                           Worth it   \n",
       "2          1    Amazon1      Amazon Warehouse for the Win!   \n",
       "3          1    Amazon1                            Awesome   \n",
       "4          1    Amazon1                 Like new iPhone 14   \n",
       "\n",
       "        reviewer_name                                     review_content  \\\n",
       "0               Andre  It was packaged very well, Amazon packaging, n...   \n",
       "1               Alice  The phone came in perfect conditions, without ...   \n",
       "2              Mrs. K  I got a great deal on this at Amazon Warehouse...   \n",
       "3  David Chaves Rojas  Got my phone, 10/10. No scratches, still have ...   \n",
       "4                Rick  The iPhone 14 came with a battery that had 100...   \n",
       "\n",
       "   review_star_rating  review_helpful_votes  verified_purchase  \\\n",
       "0                   5                     1               True   \n",
       "1                   5                     2               True   \n",
       "2                   5                     2               True   \n",
       "3                   5                     0               True   \n",
       "4                   5                     0               True   \n",
       "\n",
       "   review_subjectivity  review_polarity  ...  url review_lang    site  \\\n",
       "0             0.588232         0.258266  ...  NaN          en  Amazon   \n",
       "1             0.430909         0.447273  ...  NaN          en  Amazon   \n",
       "2             0.554959         0.394215  ...  NaN          en  Amazon   \n",
       "3             1.000000         1.000000  ...  NaN          en  Amazon   \n",
       "4             0.636364         0.424242  ...  NaN          en  Amazon   \n",
       "\n",
       "  site_outlier  site_outlier_en  global_outlier  global_outlier_en  \\\n",
       "0            0                0               0                  0   \n",
       "1            0                0               0                  0   \n",
       "2            0                0               0                  0   \n",
       "3            2                2               0                  0   \n",
       "4            0                0               0                  0   \n",
       "\n",
       "   helpful_votes_scaled  review_length_scaled  verified_purchase_num  \n",
       "0               0.00157              0.041273                      1  \n",
       "1               0.00314              0.019776                      1  \n",
       "2               0.00314              0.055890                      1  \n",
       "3               0.00000              0.011178                      1  \n",
       "4               0.00000              0.025795                      1  \n",
       "\n",
       "[5 rows x 21 columns]"
      ]
     },
     "execution_count": 32,
     "metadata": {},
     "output_type": "execute_result"
    }
   ],
   "source": [
    "review_data.head()"
   ]
  },
  {
   "cell_type": "code",
   "execution_count": 3,
   "metadata": {},
   "outputs": [
    {
     "data": {
      "text/plain": [
       "productID                 int64\n",
       "prodSiteID               object\n",
       "review_header            object\n",
       "reviewer_name            object\n",
       "review_content           object\n",
       "review_star_rating        int64\n",
       "review_helpful_votes      int64\n",
       "verified_purchase          bool\n",
       "review_subjectivity     float64\n",
       "review_polarity         float64\n",
       "review_length           float64\n",
       "url                      object\n",
       "review_lang              object\n",
       "site                     object\n",
       "site_outlier              int64\n",
       "site_outlier_en           int64\n",
       "global_outlier            int64\n",
       "global_outlier_en         int64\n",
       "dtype: object"
      ]
     },
     "execution_count": 3,
     "metadata": {},
     "output_type": "execute_result"
    }
   ],
   "source": [
    "review_data.dtypes"
   ]
  },
  {
   "cell_type": "code",
   "execution_count": 10,
   "metadata": {},
   "outputs": [],
   "source": [
    "scaler = MinMaxScaler()\n",
    "review_data['helpful_votes_scaled'] = scaler.fit_transform(review_data[['review_helpful_votes']])\n",
    "\n",
    "review_data['review_length_scaled'] = scaler.fit_transform(review_data[['review_length']])\n",
    "\n",
    "for i in review_data['verified_purchase']:\n",
    "\n",
    "    if i == True:\n",
    "        review_data['verified_purchase_num'] = 1\n",
    "    else:\n",
    "        review_data['verified_purchase_num'] = 0\n"
   ]
  },
  {
   "cell_type": "code",
   "execution_count": 11,
   "metadata": {},
   "outputs": [
    {
     "data": {
      "text/plain": [
       "(48081, 21)"
      ]
     },
     "execution_count": 11,
     "metadata": {},
     "output_type": "execute_result"
    }
   ],
   "source": [
    "review_data.shape"
   ]
  },
  {
   "cell_type": "markdown",
   "metadata": {},
   "source": [
    "### Approach 1: Splitting the dataset into reviews of common products on all sites for training and testing on review of products unique to a particular site"
   ]
  },
  {
   "cell_type": "code",
   "execution_count": 12,
   "metadata": {},
   "outputs": [],
   "source": [
    "BB = review_data[review_data['site']=='BestBuy']\n",
    "AMZ = review_data[review_data['site']=='Amazon']\n",
    "TGT = review_data[review_data['site']=='Target']"
   ]
  },
  {
   "cell_type": "code",
   "execution_count": 13,
   "metadata": {},
   "outputs": [],
   "source": [
    "BB = BB['productID'].unique().tolist()\n",
    "AMZ = AMZ['productID'].unique().tolist()\n",
    "TGT = TGT['productID'].unique().tolist()"
   ]
  },
  {
   "cell_type": "code",
   "execution_count": 14,
   "metadata": {},
   "outputs": [],
   "source": [
    "all = set(BB).union(set(AMZ),set(TGT))"
   ]
  },
  {
   "cell_type": "code",
   "execution_count": 15,
   "metadata": {},
   "outputs": [],
   "source": [
    "common = set(BB).intersection(set(AMZ), set(TGT))\n",
    "lst_common = sorted(list(common))\n",
    "lst_uncommon = sorted(list(all - common))"
   ]
  },
  {
   "cell_type": "code",
   "execution_count": 16,
   "metadata": {},
   "outputs": [
    {
     "data": {
      "text/plain": [
       "[1, 2, 3, 5, 6, 8, 9, 11, 12, 13, 14, 15]"
      ]
     },
     "execution_count": 16,
     "metadata": {},
     "output_type": "execute_result"
    }
   ],
   "source": [
    "lst_common"
   ]
  },
  {
   "cell_type": "code",
   "execution_count": 17,
   "metadata": {},
   "outputs": [
    {
     "data": {
      "text/plain": [
       "[4, 7, 10, 16, 17, 18, 19, 20, 21, 22, 23, 24, 40, 41]"
      ]
     },
     "execution_count": 17,
     "metadata": {},
     "output_type": "execute_result"
    }
   ],
   "source": [
    "lst_uncommon"
   ]
  },
  {
   "cell_type": "code",
   "execution_count": 25,
   "metadata": {},
   "outputs": [],
   "source": [
    "df_train_lst = []\n",
    "for i in lst_common:\n",
    "    filtered_df_train = review_data[review_data['productID'] == i]\n",
    "    df_train_lst.append(filtered_df_train)\n",
    "\n",
    "df_train = pd.concat(df_train_lst)\n",
    "df_train = df_train[['review_star_rating','verified_purchase_num','review_subjectivity','review_polarity','review_length_scaled', 'helpful_votes_scaled']]\n",
    "df_train.dropna(inplace=True)"
   ]
  },
  {
   "cell_type": "code",
   "execution_count": 26,
   "metadata": {},
   "outputs": [
    {
     "data": {
      "text/html": [
       "<div>\n",
       "<style scoped>\n",
       "    .dataframe tbody tr th:only-of-type {\n",
       "        vertical-align: middle;\n",
       "    }\n",
       "\n",
       "    .dataframe tbody tr th {\n",
       "        vertical-align: top;\n",
       "    }\n",
       "\n",
       "    .dataframe thead th {\n",
       "        text-align: right;\n",
       "    }\n",
       "</style>\n",
       "<table border=\"1\" class=\"dataframe\">\n",
       "  <thead>\n",
       "    <tr style=\"text-align: right;\">\n",
       "      <th></th>\n",
       "      <th>review_star_rating</th>\n",
       "      <th>verified_purchase_num</th>\n",
       "      <th>review_subjectivity</th>\n",
       "      <th>review_polarity</th>\n",
       "      <th>review_length_scaled</th>\n",
       "      <th>helpful_votes_scaled</th>\n",
       "    </tr>\n",
       "  </thead>\n",
       "  <tbody>\n",
       "    <tr>\n",
       "      <th>0</th>\n",
       "      <td>5</td>\n",
       "      <td>1</td>\n",
       "      <td>0.588232</td>\n",
       "      <td>0.258266</td>\n",
       "      <td>0.041273</td>\n",
       "      <td>0.00157</td>\n",
       "    </tr>\n",
       "    <tr>\n",
       "      <th>1</th>\n",
       "      <td>5</td>\n",
       "      <td>1</td>\n",
       "      <td>0.430909</td>\n",
       "      <td>0.447273</td>\n",
       "      <td>0.019776</td>\n",
       "      <td>0.00314</td>\n",
       "    </tr>\n",
       "    <tr>\n",
       "      <th>2</th>\n",
       "      <td>5</td>\n",
       "      <td>1</td>\n",
       "      <td>0.554959</td>\n",
       "      <td>0.394215</td>\n",
       "      <td>0.055890</td>\n",
       "      <td>0.00314</td>\n",
       "    </tr>\n",
       "    <tr>\n",
       "      <th>3</th>\n",
       "      <td>5</td>\n",
       "      <td>1</td>\n",
       "      <td>1.000000</td>\n",
       "      <td>1.000000</td>\n",
       "      <td>0.011178</td>\n",
       "      <td>0.00000</td>\n",
       "    </tr>\n",
       "    <tr>\n",
       "      <th>4</th>\n",
       "      <td>5</td>\n",
       "      <td>1</td>\n",
       "      <td>0.636364</td>\n",
       "      <td>0.424242</td>\n",
       "      <td>0.025795</td>\n",
       "      <td>0.00000</td>\n",
       "    </tr>\n",
       "  </tbody>\n",
       "</table>\n",
       "</div>"
      ],
      "text/plain": [
       "   review_star_rating  verified_purchase_num  review_subjectivity  \\\n",
       "0                   5                      1             0.588232   \n",
       "1                   5                      1             0.430909   \n",
       "2                   5                      1             0.554959   \n",
       "3                   5                      1             1.000000   \n",
       "4                   5                      1             0.636364   \n",
       "\n",
       "   review_polarity  review_length_scaled  helpful_votes_scaled  \n",
       "0         0.258266              0.041273               0.00157  \n",
       "1         0.447273              0.019776               0.00314  \n",
       "2         0.394215              0.055890               0.00314  \n",
       "3         1.000000              0.011178               0.00000  \n",
       "4         0.424242              0.025795               0.00000  "
      ]
     },
     "execution_count": 26,
     "metadata": {},
     "output_type": "execute_result"
    }
   ],
   "source": [
    "df_train.head()"
   ]
  },
  {
   "cell_type": "code",
   "execution_count": 27,
   "metadata": {},
   "outputs": [
    {
     "data": {
      "text/plain": [
       "(35191, 6)"
      ]
     },
     "execution_count": 27,
     "metadata": {},
     "output_type": "execute_result"
    }
   ],
   "source": [
    "df_train.shape"
   ]
  },
  {
   "cell_type": "code",
   "execution_count": 28,
   "metadata": {},
   "outputs": [],
   "source": [
    "df_test_lst = []\n",
    "for i in lst_uncommon:\n",
    "    filtered_df_test = review_data[review_data['productID'] == i]\n",
    "    df_test_lst.append(filtered_df_test)\n",
    "\n",
    "df_test = pd.concat(df_test_lst)\n",
    "df_test = df_test[['review_star_rating','verified_purchase_num','review_subjectivity','review_polarity','review_length_scaled', 'helpful_votes_scaled']]\n",
    "df_test.dropna(inplace=True)"
   ]
  },
  {
   "cell_type": "code",
   "execution_count": 29,
   "metadata": {},
   "outputs": [
    {
     "data": {
      "text/plain": [
       "(12888, 6)"
      ]
     },
     "execution_count": 29,
     "metadata": {},
     "output_type": "execute_result"
    }
   ],
   "source": [
    "df_test.shape"
   ]
  },
  {
   "cell_type": "code",
   "execution_count": 30,
   "metadata": {},
   "outputs": [],
   "source": [
    "X_train = df_train[['review_star_rating','verified_purchase_num','review_subjectivity','review_polarity','review_length_scaled']]\n",
    "y_train = df_train[['helpful_votes_scaled']]\n",
    "\n",
    "X_test = df_test[['review_star_rating','verified_purchase_num','review_subjectivity','review_polarity','review_length_scaled']]\n",
    "y_test = df_test[['helpful_votes_scaled']]\n"
   ]
  },
  {
   "cell_type": "code",
   "execution_count": 31,
   "metadata": {},
   "outputs": [
    {
     "name": "stderr",
     "output_type": "stream",
     "text": [
      "c:\\Users\\khole\\AppData\\Local\\Programs\\Python\\Python311\\Lib\\site-packages\\sklearn\\ensemble\\_gb.py:437: DataConversionWarning: A column-vector y was passed when a 1d array was expected. Please change the shape of y to (n_samples, ), for example using ravel().\n",
      "  y = column_or_1d(y, warn=True)\n"
     ]
    },
    {
     "name": "stdout",
     "output_type": "stream",
     "text": [
      "Mean Squared Error: 7.433756243718388e-05\n",
      "R2 score is: -2.2828029702008705\n"
     ]
    }
   ],
   "source": [
    "# Step 4: Model Selection and Training\n",
    "model = GradientBoostingRegressor()\n",
    "model.fit(X_train, y_train)\n",
    "\n",
    "# Step 6: Evaluate the Model\n",
    "y_pred = model.predict(X_test)\n",
    "mse = mean_squared_error(y_test, y_pred)\n",
    "print(\"Mean Squared Error:\", mse)\n",
    "r2 = r2_score(y_test, y_pred)\n",
    "print(\"R2 score is:\", r2)"
   ]
  },
  {
   "cell_type": "markdown",
   "metadata": {},
   "source": [
    "### Aprroach 2: Using the whole dataset, just shuffling the rows"
   ]
  },
  {
   "cell_type": "code",
   "execution_count": 245,
   "metadata": {},
   "outputs": [
    {
     "name": "stderr",
     "output_type": "stream",
     "text": [
      "C:\\Users\\khole\\AppData\\Local\\Temp\\ipykernel_11080\\401404742.py:2: SettingWithCopyWarning: \n",
      "A value is trying to be set on a copy of a slice from a DataFrame\n",
      "\n",
      "See the caveats in the documentation: https://pandas.pydata.org/pandas-docs/stable/user_guide/indexing.html#returning-a-view-versus-a-copy\n",
      "  review_data_reduced.dropna(inplace=True)\n"
     ]
    },
    {
     "data": {
      "text/plain": [
       "(48079, 6)"
      ]
     },
     "execution_count": 245,
     "metadata": {},
     "output_type": "execute_result"
    }
   ],
   "source": [
    "review_data_reduced = review_data[['review_star_rating','verified_purchase_num','review_subjectivity','review_polarity','review_length', 'helpful_votes_scaled']]\n",
    "review_data_reduced.dropna(inplace=True)\n",
    "review_data_reduced.sample(frac=1)\n",
    "review_data_reduced.shape"
   ]
  },
  {
   "cell_type": "code",
   "execution_count": 248,
   "metadata": {},
   "outputs": [],
   "source": [
    "X, y= review_data_reduced[['review_star_rating','verified_purchase_num','review_subjectivity','review_polarity','review_length']], review_data_reduced[['helpful_votes_scaled']]\n",
    "\n",
    "X_train, X_test, y_train, y_test = train_test_split(X, y, test_size=0.2, random_state=42)"
   ]
  },
  {
   "cell_type": "code",
   "execution_count": 249,
   "metadata": {},
   "outputs": [
    {
     "name": "stderr",
     "output_type": "stream",
     "text": [
      "c:\\Users\\khole\\AppData\\Local\\Programs\\Python\\Python311\\Lib\\site-packages\\sklearn\\ensemble\\_gb.py:437: DataConversionWarning: A column-vector y was passed when a 1d array was expected. Please change the shape of y to (n_samples, ), for example using ravel().\n",
      "  y = column_or_1d(y, warn=True)\n"
     ]
    },
    {
     "name": "stdout",
     "output_type": "stream",
     "text": [
      "Mean Squared Error: 0.00013888365030410312\n",
      "R2 score is: -2.0641634935510216\n"
     ]
    }
   ],
   "source": [
    "model = GradientBoostingRegressor()\n",
    "model.fit(X_train, y_train)\n",
    "\n",
    "# Step 6: Evaluate the Model\n",
    "y_pred = model.predict(X_test)\n",
    "mse = mean_squared_error(y_test, y_pred)\n",
    "print(\"Mean Squared Error:\", mse)\n",
    "r2 = r2_score(y_test, y_pred)\n",
    "print(\"R2 score is:\", r2)"
   ]
  },
  {
   "cell_type": "markdown",
   "metadata": {},
   "source": [
    "### Approach: 3\n"
   ]
  },
  {
   "cell_type": "code",
   "execution_count": 34,
   "metadata": {},
   "outputs": [],
   "source": [
    "X, y= df_train.drop(['helpful_votes_scaled'], axis=1), df_train['helpful_votes_scaled']\n",
    "\n",
    "X_train, X_test, y_train, y_test = train_test_split(X, y, test_size=0.2, random_state=42)"
   ]
  },
  {
   "cell_type": "code",
   "execution_count": 35,
   "metadata": {},
   "outputs": [
    {
     "name": "stdout",
     "output_type": "stream",
     "text": [
      "Mean Squared Error: 0.00023469688874923033\n",
      "R2 score is: -0.2005035968195208\n"
     ]
    }
   ],
   "source": [
    "model = GradientBoostingRegressor()\n",
    "model.fit(X_train, y_train)\n",
    "\n",
    "# Step 6: Evaluate the Model\n",
    "y_pred = model.predict(X_test)\n",
    "mse = mean_squared_error(y_test, y_pred)\n",
    "print(\"Mean Squared Error:\", mse)\n",
    "r2 = r2_score(y_test, y_pred)\n",
    "print(\"R2 score is:\", r2)"
   ]
  },
  {
   "cell_type": "code",
   "execution_count": null,
   "metadata": {},
   "outputs": [],
   "source": []
  }
 ],
 "metadata": {
  "kernelspec": {
   "display_name": "Python 3",
   "language": "python",
   "name": "python3"
  },
  "language_info": {
   "codemirror_mode": {
    "name": "ipython",
    "version": 3
   },
   "file_extension": ".py",
   "mimetype": "text/x-python",
   "name": "python",
   "nbconvert_exporter": "python",
   "pygments_lexer": "ipython3",
   "version": "3.11.4"
  }
 },
 "nbformat": 4,
 "nbformat_minor": 2
}
